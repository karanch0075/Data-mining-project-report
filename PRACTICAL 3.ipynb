{
 "cells": [
  {
   "cell_type": "markdown",
   "id": "4ce867c3",
   "metadata": {},
   "source": [
    "# <u>PRACTICAL - 3</u>\n",
    "\n",
    "## <u>QUESTION</u> - \n",
    "\n",
    "### Use the Decision Tree classification algorithm to construct a classifier on two datasets. \n",
    "### Evaluate the classifier's performance by dividing the dataset into a training set (75%) and \n",
    "### a test set (25%). Compare the performance with that of:\n",
    "### a. Bagging ensemble consisting of 3,5,7,9 Decision tree classifiers\n",
    "### b. Adaboost ensemble consisting of 3,5,7,9 Decision tree classifiers\n",
    "\n",
    "### <u>DATASET 1</u> -> Rice (Cammeo and Osmancik) (https://archive.ics.uci.edu/dataset/545/rice+cammeo+and+osmancik)\n",
    "\n",
    "### <u>DATASET 2</u> -> Dry Bean (https://archive.ics.uci.edu/dataset/602/dry+bean+dataset)"
   ]
  },
  {
   "cell_type": "code",
   "execution_count": 1,
   "id": "c446eba9",
   "metadata": {},
   "outputs": [],
   "source": [
    "# Import Libraries\n",
    "\n",
    "import warnings\n",
    "warnings.filterwarnings('ignore')\n",
    "from ucimlrepo import fetch_ucirepo\n",
    "import numpy as np\n",
    "import pandas as pd\n",
    "import seaborn as sns\n",
    "import matplotlib.pyplot as plt\n",
    "%matplotlib inline\n",
    "from sklearn.preprocessing import StandardScaler\n",
    "from sklearn.model_selection import train_test_split, cross_val_score\n",
    "from sklearn.tree import DecisionTreeClassifier\n",
    "from sklearn.ensemble import BaggingClassifier, AdaBoostClassifier\n",
    "from sklearn.metrics import (\n",
    "    accuracy_score,\n",
    "    precision_score,\n",
    "    classification_report,\n",
    "    confusion_matrix,\n",
    "    ConfusionMatrixDisplay)"
   ]
  },
  {
   "cell_type": "markdown",
   "id": "46487e65",
   "metadata": {},
   "source": [
    "#### DATASET-1 Rice (Cammeo and Osmancik)"
   ]
  },
  {
   "cell_type": "code",
   "execution_count": 2,
   "id": "dd079fcc",
   "metadata": {},
   "outputs": [
    {
     "data": {
      "text/html": [
       "<div>\n",
       "<style scoped>\n",
       "    .dataframe tbody tr th:only-of-type {\n",
       "        vertical-align: middle;\n",
       "    }\n",
       "\n",
       "    .dataframe tbody tr th {\n",
       "        vertical-align: top;\n",
       "    }\n",
       "\n",
       "    .dataframe thead th {\n",
       "        text-align: right;\n",
       "    }\n",
       "</style>\n",
       "<table border=\"1\" class=\"dataframe\">\n",
       "  <thead>\n",
       "    <tr style=\"text-align: right;\">\n",
       "      <th></th>\n",
       "      <th>Area</th>\n",
       "      <th>Perimeter</th>\n",
       "      <th>Major_Axis_Length</th>\n",
       "      <th>Minor_Axis_Length</th>\n",
       "      <th>Eccentricity</th>\n",
       "      <th>Convex_Area</th>\n",
       "      <th>Extent</th>\n",
       "      <th>Class</th>\n",
       "    </tr>\n",
       "  </thead>\n",
       "  <tbody>\n",
       "    <tr>\n",
       "      <th>0</th>\n",
       "      <td>15231</td>\n",
       "      <td>525.578979</td>\n",
       "      <td>229.749878</td>\n",
       "      <td>85.093788</td>\n",
       "      <td>0.928882</td>\n",
       "      <td>15617</td>\n",
       "      <td>0.572896</td>\n",
       "      <td>Cammeo</td>\n",
       "    </tr>\n",
       "    <tr>\n",
       "      <th>1</th>\n",
       "      <td>14656</td>\n",
       "      <td>494.311005</td>\n",
       "      <td>206.020065</td>\n",
       "      <td>91.730972</td>\n",
       "      <td>0.895405</td>\n",
       "      <td>15072</td>\n",
       "      <td>0.615436</td>\n",
       "      <td>Cammeo</td>\n",
       "    </tr>\n",
       "    <tr>\n",
       "      <th>2</th>\n",
       "      <td>14634</td>\n",
       "      <td>501.122009</td>\n",
       "      <td>214.106781</td>\n",
       "      <td>87.768288</td>\n",
       "      <td>0.912118</td>\n",
       "      <td>14954</td>\n",
       "      <td>0.693259</td>\n",
       "      <td>Cammeo</td>\n",
       "    </tr>\n",
       "    <tr>\n",
       "      <th>3</th>\n",
       "      <td>13176</td>\n",
       "      <td>458.342987</td>\n",
       "      <td>193.337387</td>\n",
       "      <td>87.448395</td>\n",
       "      <td>0.891861</td>\n",
       "      <td>13368</td>\n",
       "      <td>0.640669</td>\n",
       "      <td>Cammeo</td>\n",
       "    </tr>\n",
       "    <tr>\n",
       "      <th>4</th>\n",
       "      <td>14688</td>\n",
       "      <td>507.166992</td>\n",
       "      <td>211.743378</td>\n",
       "      <td>89.312454</td>\n",
       "      <td>0.906691</td>\n",
       "      <td>15262</td>\n",
       "      <td>0.646024</td>\n",
       "      <td>Cammeo</td>\n",
       "    </tr>\n",
       "  </tbody>\n",
       "</table>\n",
       "</div>"
      ],
      "text/plain": [
       "    Area   Perimeter  Major_Axis_Length  Minor_Axis_Length  Eccentricity  \\\n",
       "0  15231  525.578979         229.749878          85.093788      0.928882   \n",
       "1  14656  494.311005         206.020065          91.730972      0.895405   \n",
       "2  14634  501.122009         214.106781          87.768288      0.912118   \n",
       "3  13176  458.342987         193.337387          87.448395      0.891861   \n",
       "4  14688  507.166992         211.743378          89.312454      0.906691   \n",
       "\n",
       "   Convex_Area    Extent   Class  \n",
       "0        15617  0.572896  Cammeo  \n",
       "1        15072  0.615436  Cammeo  \n",
       "2        14954  0.693259  Cammeo  \n",
       "3        13368  0.640669  Cammeo  \n",
       "4        15262  0.646024  Cammeo  "
      ]
     },
     "execution_count": 2,
     "metadata": {},
     "output_type": "execute_result"
    }
   ],
   "source": [
    "# Import Dataset 1\n",
    "\n",
    "rice_cammeo_and_osmancik = fetch_ucirepo(id=545) \n",
    " \n",
    "X = rice_cammeo_and_osmancik.data.features \n",
    "y = rice_cammeo_and_osmancik.data.targets \n",
    "frames1=[X,y]\n",
    "df1=pd.concat(frames1,axis=1)\n",
    "df1.head()"
   ]
  },
  {
   "cell_type": "code",
   "execution_count": 3,
   "id": "d0433474",
   "metadata": {},
   "outputs": [
    {
     "data": {
      "text/plain": [
       "(3810, 8)"
      ]
     },
     "execution_count": 3,
     "metadata": {},
     "output_type": "execute_result"
    }
   ],
   "source": [
    "df1.shape"
   ]
  },
  {
   "cell_type": "code",
   "execution_count": 4,
   "id": "d1d79d60",
   "metadata": {},
   "outputs": [
    {
     "name": "stdout",
     "output_type": "stream",
     "text": [
      "<class 'pandas.core.frame.DataFrame'>\n",
      "RangeIndex: 3810 entries, 0 to 3809\n",
      "Data columns (total 8 columns):\n",
      " #   Column             Non-Null Count  Dtype  \n",
      "---  ------             --------------  -----  \n",
      " 0   Area               3810 non-null   int64  \n",
      " 1   Perimeter          3810 non-null   float64\n",
      " 2   Major_Axis_Length  3810 non-null   float64\n",
      " 3   Minor_Axis_Length  3810 non-null   float64\n",
      " 4   Eccentricity       3810 non-null   float64\n",
      " 5   Convex_Area        3810 non-null   int64  \n",
      " 6   Extent             3810 non-null   float64\n",
      " 7   Class              3810 non-null   object \n",
      "dtypes: float64(5), int64(2), object(1)\n",
      "memory usage: 238.2+ KB\n"
     ]
    }
   ],
   "source": [
    "df1.info()"
   ]
  },
  {
   "cell_type": "code",
   "execution_count": 5,
   "id": "fdee4bdb",
   "metadata": {},
   "outputs": [
    {
     "data": {
      "text/html": [
       "<div>\n",
       "<style scoped>\n",
       "    .dataframe tbody tr th:only-of-type {\n",
       "        vertical-align: middle;\n",
       "    }\n",
       "\n",
       "    .dataframe tbody tr th {\n",
       "        vertical-align: top;\n",
       "    }\n",
       "\n",
       "    .dataframe thead th {\n",
       "        text-align: right;\n",
       "    }\n",
       "</style>\n",
       "<table border=\"1\" class=\"dataframe\">\n",
       "  <thead>\n",
       "    <tr style=\"text-align: right;\">\n",
       "      <th></th>\n",
       "      <th>column</th>\n",
       "      <th>type</th>\n",
       "      <th>unique value</th>\n",
       "    </tr>\n",
       "  </thead>\n",
       "  <tbody>\n",
       "    <tr>\n",
       "      <th>0</th>\n",
       "      <td>Area</td>\n",
       "      <td>int64</td>\n",
       "      <td>2828</td>\n",
       "    </tr>\n",
       "    <tr>\n",
       "      <th>1</th>\n",
       "      <td>Perimeter</td>\n",
       "      <td>float64</td>\n",
       "      <td>3738</td>\n",
       "    </tr>\n",
       "    <tr>\n",
       "      <th>2</th>\n",
       "      <td>Major_Axis_Length</td>\n",
       "      <td>float64</td>\n",
       "      <td>3808</td>\n",
       "    </tr>\n",
       "    <tr>\n",
       "      <th>3</th>\n",
       "      <td>Minor_Axis_Length</td>\n",
       "      <td>float64</td>\n",
       "      <td>3804</td>\n",
       "    </tr>\n",
       "    <tr>\n",
       "      <th>4</th>\n",
       "      <td>Eccentricity</td>\n",
       "      <td>float64</td>\n",
       "      <td>3803</td>\n",
       "    </tr>\n",
       "    <tr>\n",
       "      <th>5</th>\n",
       "      <td>Convex_Area</td>\n",
       "      <td>int64</td>\n",
       "      <td>2857</td>\n",
       "    </tr>\n",
       "    <tr>\n",
       "      <th>6</th>\n",
       "      <td>Extent</td>\n",
       "      <td>float64</td>\n",
       "      <td>3804</td>\n",
       "    </tr>\n",
       "    <tr>\n",
       "      <th>7</th>\n",
       "      <td>Class</td>\n",
       "      <td>object</td>\n",
       "      <td>2</td>\n",
       "    </tr>\n",
       "  </tbody>\n",
       "</table>\n",
       "</div>"
      ],
      "text/plain": [
       "              column     type  unique value\n",
       "0               Area    int64          2828\n",
       "1          Perimeter  float64          3738\n",
       "2  Major_Axis_Length  float64          3808\n",
       "3  Minor_Axis_Length  float64          3804\n",
       "4       Eccentricity  float64          3803\n",
       "5        Convex_Area    int64          2857\n",
       "6             Extent  float64          3804\n",
       "7              Class   object             2"
      ]
     },
     "execution_count": 5,
     "metadata": {},
     "output_type": "execute_result"
    }
   ],
   "source": [
    "d = []\n",
    "u = []\n",
    "t = []\n",
    "for col in df1:\n",
    "    d.append(col)\n",
    "    u.append(df1[col].nunique())\n",
    "    t.append(df1[col].dtype)\n",
    "pd.DataFrame({'column':d,'type': t ,'unique value' : u})"
   ]
  },
  {
   "cell_type": "code",
   "execution_count": 6,
   "id": "fd21d058",
   "metadata": {},
   "outputs": [
    {
     "data": {
      "text/plain": [
       "array(['Cammeo', 'Osmancik'], dtype=object)"
      ]
     },
     "execution_count": 6,
     "metadata": {},
     "output_type": "execute_result"
    }
   ],
   "source": [
    "df1['Class'].unique()"
   ]
  },
  {
   "cell_type": "code",
   "execution_count": 7,
   "id": "985413d4",
   "metadata": {},
   "outputs": [
    {
     "data": {
      "text/plain": [
       "Area                 0\n",
       "Perimeter            0\n",
       "Major_Axis_Length    0\n",
       "Minor_Axis_Length    0\n",
       "Eccentricity         0\n",
       "Convex_Area          0\n",
       "Extent               0\n",
       "Class                0\n",
       "dtype: int64"
      ]
     },
     "execution_count": 7,
     "metadata": {},
     "output_type": "execute_result"
    }
   ],
   "source": [
    "# Checking Null Values\n",
    "\n",
    "df1.isnull().sum()"
   ]
  },
  {
   "cell_type": "code",
   "execution_count": 8,
   "id": "764ff038",
   "metadata": {},
   "outputs": [
    {
     "data": {
      "text/plain": [
       "0"
      ]
     },
     "execution_count": 8,
     "metadata": {},
     "output_type": "execute_result"
    }
   ],
   "source": [
    "# Checking Duplicate Values\n",
    "\n",
    "df1.duplicated().sum()"
   ]
  },
  {
   "cell_type": "code",
   "execution_count": 9,
   "id": "1ca8bf70",
   "metadata": {},
   "outputs": [
    {
     "data": {
      "text/html": [
       "<div>\n",
       "<style scoped>\n",
       "    .dataframe tbody tr th:only-of-type {\n",
       "        vertical-align: middle;\n",
       "    }\n",
       "\n",
       "    .dataframe tbody tr th {\n",
       "        vertical-align: top;\n",
       "    }\n",
       "\n",
       "    .dataframe thead th {\n",
       "        text-align: right;\n",
       "    }\n",
       "</style>\n",
       "<table border=\"1\" class=\"dataframe\">\n",
       "  <thead>\n",
       "    <tr style=\"text-align: right;\">\n",
       "      <th></th>\n",
       "      <th>Class</th>\n",
       "    </tr>\n",
       "  </thead>\n",
       "  <tbody>\n",
       "    <tr>\n",
       "      <th>count</th>\n",
       "      <td>3810</td>\n",
       "    </tr>\n",
       "    <tr>\n",
       "      <th>unique</th>\n",
       "      <td>2</td>\n",
       "    </tr>\n",
       "    <tr>\n",
       "      <th>top</th>\n",
       "      <td>Osmancik</td>\n",
       "    </tr>\n",
       "    <tr>\n",
       "      <th>freq</th>\n",
       "      <td>2180</td>\n",
       "    </tr>\n",
       "  </tbody>\n",
       "</table>\n",
       "</div>"
      ],
      "text/plain": [
       "           Class\n",
       "count       3810\n",
       "unique         2\n",
       "top     Osmancik\n",
       "freq        2180"
      ]
     },
     "execution_count": 9,
     "metadata": {},
     "output_type": "execute_result"
    }
   ],
   "source": [
    "df1.describe(include='object')"
   ]
  },
  {
   "cell_type": "code",
   "execution_count": 10,
   "id": "e18630c3",
   "metadata": {},
   "outputs": [
    {
     "data": {
      "text/html": [
       "<div>\n",
       "<style scoped>\n",
       "    .dataframe tbody tr th:only-of-type {\n",
       "        vertical-align: middle;\n",
       "    }\n",
       "\n",
       "    .dataframe tbody tr th {\n",
       "        vertical-align: top;\n",
       "    }\n",
       "\n",
       "    .dataframe thead th {\n",
       "        text-align: right;\n",
       "    }\n",
       "</style>\n",
       "<table border=\"1\" class=\"dataframe\">\n",
       "  <thead>\n",
       "    <tr style=\"text-align: right;\">\n",
       "      <th></th>\n",
       "      <th>Area</th>\n",
       "      <th>Perimeter</th>\n",
       "      <th>Major_Axis_Length</th>\n",
       "      <th>Minor_Axis_Length</th>\n",
       "      <th>Eccentricity</th>\n",
       "      <th>Convex_Area</th>\n",
       "      <th>Extent</th>\n",
       "    </tr>\n",
       "  </thead>\n",
       "  <tbody>\n",
       "    <tr>\n",
       "      <th>count</th>\n",
       "      <td>3810.000000</td>\n",
       "      <td>3810.000000</td>\n",
       "      <td>3810.000000</td>\n",
       "      <td>3810.000000</td>\n",
       "      <td>3810.000000</td>\n",
       "      <td>3810.000000</td>\n",
       "      <td>3810.000000</td>\n",
       "    </tr>\n",
       "    <tr>\n",
       "      <th>mean</th>\n",
       "      <td>12667.727559</td>\n",
       "      <td>454.239180</td>\n",
       "      <td>188.776222</td>\n",
       "      <td>86.313750</td>\n",
       "      <td>0.886871</td>\n",
       "      <td>12952.496850</td>\n",
       "      <td>0.661934</td>\n",
       "    </tr>\n",
       "    <tr>\n",
       "      <th>std</th>\n",
       "      <td>1732.367706</td>\n",
       "      <td>35.597081</td>\n",
       "      <td>17.448679</td>\n",
       "      <td>5.729817</td>\n",
       "      <td>0.020818</td>\n",
       "      <td>1776.972042</td>\n",
       "      <td>0.077239</td>\n",
       "    </tr>\n",
       "    <tr>\n",
       "      <th>min</th>\n",
       "      <td>7551.000000</td>\n",
       "      <td>359.100006</td>\n",
       "      <td>145.264465</td>\n",
       "      <td>59.532406</td>\n",
       "      <td>0.777233</td>\n",
       "      <td>7723.000000</td>\n",
       "      <td>0.497413</td>\n",
       "    </tr>\n",
       "    <tr>\n",
       "      <th>25%</th>\n",
       "      <td>11370.500000</td>\n",
       "      <td>426.144752</td>\n",
       "      <td>174.353855</td>\n",
       "      <td>82.731695</td>\n",
       "      <td>0.872402</td>\n",
       "      <td>11626.250000</td>\n",
       "      <td>0.598862</td>\n",
       "    </tr>\n",
       "    <tr>\n",
       "      <th>50%</th>\n",
       "      <td>12421.500000</td>\n",
       "      <td>448.852493</td>\n",
       "      <td>185.810059</td>\n",
       "      <td>86.434647</td>\n",
       "      <td>0.889050</td>\n",
       "      <td>12706.500000</td>\n",
       "      <td>0.645361</td>\n",
       "    </tr>\n",
       "    <tr>\n",
       "      <th>75%</th>\n",
       "      <td>13950.000000</td>\n",
       "      <td>483.683746</td>\n",
       "      <td>203.550438</td>\n",
       "      <td>90.143677</td>\n",
       "      <td>0.902588</td>\n",
       "      <td>14284.000000</td>\n",
       "      <td>0.726562</td>\n",
       "    </tr>\n",
       "    <tr>\n",
       "      <th>max</th>\n",
       "      <td>18913.000000</td>\n",
       "      <td>548.445984</td>\n",
       "      <td>239.010498</td>\n",
       "      <td>107.542450</td>\n",
       "      <td>0.948007</td>\n",
       "      <td>19099.000000</td>\n",
       "      <td>0.861050</td>\n",
       "    </tr>\n",
       "  </tbody>\n",
       "</table>\n",
       "</div>"
      ],
      "text/plain": [
       "               Area    Perimeter  Major_Axis_Length  Minor_Axis_Length  \\\n",
       "count   3810.000000  3810.000000        3810.000000        3810.000000   \n",
       "mean   12667.727559   454.239180         188.776222          86.313750   \n",
       "std     1732.367706    35.597081          17.448679           5.729817   \n",
       "min     7551.000000   359.100006         145.264465          59.532406   \n",
       "25%    11370.500000   426.144752         174.353855          82.731695   \n",
       "50%    12421.500000   448.852493         185.810059          86.434647   \n",
       "75%    13950.000000   483.683746         203.550438          90.143677   \n",
       "max    18913.000000   548.445984         239.010498         107.542450   \n",
       "\n",
       "       Eccentricity   Convex_Area       Extent  \n",
       "count   3810.000000   3810.000000  3810.000000  \n",
       "mean       0.886871  12952.496850     0.661934  \n",
       "std        0.020818   1776.972042     0.077239  \n",
       "min        0.777233   7723.000000     0.497413  \n",
       "25%        0.872402  11626.250000     0.598862  \n",
       "50%        0.889050  12706.500000     0.645361  \n",
       "75%        0.902588  14284.000000     0.726562  \n",
       "max        0.948007  19099.000000     0.861050  "
      ]
     },
     "execution_count": 10,
     "metadata": {},
     "output_type": "execute_result"
    }
   ],
   "source": [
    "df1.describe()"
   ]
  },
  {
   "cell_type": "code",
   "execution_count": 11,
   "id": "76a92004",
   "metadata": {},
   "outputs": [
    {
     "data": {
      "text/plain": [
       "Osmancik    2180\n",
       "Cammeo      1630\n",
       "Name: Class, dtype: int64"
      ]
     },
     "execution_count": 11,
     "metadata": {},
     "output_type": "execute_result"
    }
   ],
   "source": [
    "df1.Class.value_counts()"
   ]
  },
  {
   "cell_type": "code",
   "execution_count": 12,
   "id": "3063e794",
   "metadata": {},
   "outputs": [],
   "source": [
    "# Detecting Outliers\n",
    "\n",
    "def boxplots(df1):\n",
    "    cols = df1.columns[::]\n",
    "    n = 2\n",
    "    m = 4\n",
    "    fig, axes = plt.subplots(nrows=n, ncols=m, figsize=(20,15))\n",
    "    for idx, col in enumerate(cols):\n",
    "        i = idx // m\n",
    "        j = idx % m\n",
    "        if df1[col].dtype == 'object':\n",
    "            sns.countplot(data=df1, x=col, ax=axes[i][j])\n",
    "        else:\n",
    "            sns.boxplot(data=df1, x=col, ax=axes[i][j])\n",
    "    plt.tight_layout()\n",
    "    plt.show()"
   ]
  },
  {
   "cell_type": "code",
   "execution_count": 13,
   "id": "381a8014",
   "metadata": {
    "scrolled": false
   },
   "outputs": [
    {
     "data": {
      "image/png": "[encoded data removed]",
      "text/plain": [
       "<Figure size 2000x1500 with 8 Axes>"
      ]
     },
     "metadata": {},
     "output_type": "display_data"
    }
   ],
   "source": [
    "boxplots(df1)"
   ]
  },
  {
   "cell_type": "code",
   "execution_count": 14,
   "id": "daf4db28",
   "metadata": {},
   "outputs": [],
   "source": [
    "# Fixing Outliers \n",
    "\n",
    "def outliers_removal(df1, col):\n",
    "    if df1[col].dtype != 'object':\n",
    "        perc = np.percentile(df1[col], [0, 25, 50, 75, 100])\n",
    "        iqr = perc[3] - perc[1]\n",
    "        _min = perc[1] - 1.5*iqr\n",
    "        _max = perc[3] + 1.5*iqr\n",
    "        df1.loc[df1[col] > _max, col] = _max\n",
    "        df1.loc[df1[col] < _min, col] = _min\n",
    "    return df1\n",
    "for col in df1.columns[::]:\n",
    "    df1 = outliers_removal(df1, col)"
   ]
  },
  {
   "cell_type": "code",
   "execution_count": 15,
   "id": "7258a338",
   "metadata": {
    "scrolled": false
   },
   "outputs": [
    {
     "data": {
      "image/png": "[encoded data removed]",
      "text/plain": [
       "<Figure size 2000x1500 with 8 Axes>"
      ]
     },
     "metadata": {},
     "output_type": "display_data"
    }
   ],
   "source": [
    "boxplots(df1)"
   ]
  },
  {
   "cell_type": "code",
   "execution_count": 16,
   "id": "ba2e10c1",
   "metadata": {},
   "outputs": [
    {
     "data": {
      "text/html": [
       "<div>\n",
       "<style scoped>\n",
       "    .dataframe tbody tr th:only-of-type {\n",
       "        vertical-align: middle;\n",
       "    }\n",
       "\n",
       "    .dataframe tbody tr th {\n",
       "        vertical-align: top;\n",
       "    }\n",
       "\n",
       "    .dataframe thead th {\n",
       "        text-align: right;\n",
       "    }\n",
       "</style>\n",
       "<table border=\"1\" class=\"dataframe\">\n",
       "  <thead>\n",
       "    <tr style=\"text-align: right;\">\n",
       "      <th></th>\n",
       "      <th>Area</th>\n",
       "      <th>Perimeter</th>\n",
       "      <th>Major_Axis_Length</th>\n",
       "      <th>Minor_Axis_Length</th>\n",
       "      <th>Eccentricity</th>\n",
       "      <th>Convex_Area</th>\n",
       "      <th>Extent</th>\n",
       "      <th>Class</th>\n",
       "    </tr>\n",
       "  </thead>\n",
       "  <tbody>\n",
       "    <tr>\n",
       "      <th>0</th>\n",
       "      <td>15231.0</td>\n",
       "      <td>525.578979</td>\n",
       "      <td>229.749878</td>\n",
       "      <td>85.093788</td>\n",
       "      <td>0.928882</td>\n",
       "      <td>15617.0</td>\n",
       "      <td>0.572896</td>\n",
       "      <td>Cammeo</td>\n",
       "    </tr>\n",
       "    <tr>\n",
       "      <th>1</th>\n",
       "      <td>14656.0</td>\n",
       "      <td>494.311005</td>\n",
       "      <td>206.020065</td>\n",
       "      <td>91.730972</td>\n",
       "      <td>0.895405</td>\n",
       "      <td>15072.0</td>\n",
       "      <td>0.615436</td>\n",
       "      <td>Cammeo</td>\n",
       "    </tr>\n",
       "    <tr>\n",
       "      <th>2</th>\n",
       "      <td>14634.0</td>\n",
       "      <td>501.122009</td>\n",
       "      <td>214.106781</td>\n",
       "      <td>87.768288</td>\n",
       "      <td>0.912118</td>\n",
       "      <td>14954.0</td>\n",
       "      <td>0.693259</td>\n",
       "      <td>Cammeo</td>\n",
       "    </tr>\n",
       "    <tr>\n",
       "      <th>3</th>\n",
       "      <td>13176.0</td>\n",
       "      <td>458.342987</td>\n",
       "      <td>193.337387</td>\n",
       "      <td>87.448395</td>\n",
       "      <td>0.891861</td>\n",
       "      <td>13368.0</td>\n",
       "      <td>0.640669</td>\n",
       "      <td>Cammeo</td>\n",
       "    </tr>\n",
       "    <tr>\n",
       "      <th>4</th>\n",
       "      <td>14688.0</td>\n",
       "      <td>507.166992</td>\n",
       "      <td>211.743378</td>\n",
       "      <td>89.312454</td>\n",
       "      <td>0.906691</td>\n",
       "      <td>15262.0</td>\n",
       "      <td>0.646024</td>\n",
       "      <td>Cammeo</td>\n",
       "    </tr>\n",
       "  </tbody>\n",
       "</table>\n",
       "</div>"
      ],
      "text/plain": [
       "      Area   Perimeter  Major_Axis_Length  Minor_Axis_Length  Eccentricity  \\\n",
       "0  15231.0  525.578979         229.749878          85.093788      0.928882   \n",
       "1  14656.0  494.311005         206.020065          91.730972      0.895405   \n",
       "2  14634.0  501.122009         214.106781          87.768288      0.912118   \n",
       "3  13176.0  458.342987         193.337387          87.448395      0.891861   \n",
       "4  14688.0  507.166992         211.743378          89.312454      0.906691   \n",
       "\n",
       "   Convex_Area    Extent   Class  \n",
       "0      15617.0  0.572896  Cammeo  \n",
       "1      15072.0  0.615436  Cammeo  \n",
       "2      14954.0  0.693259  Cammeo  \n",
       "3      13368.0  0.640669  Cammeo  \n",
       "4      15262.0  0.646024  Cammeo  "
      ]
     },
     "execution_count": 16,
     "metadata": {},
     "output_type": "execute_result"
    }
   ],
   "source": [
    "df1.head()"
   ]
  },
  {
   "cell_type": "code",
   "execution_count": 17,
   "id": "1e26805f",
   "metadata": {},
   "outputs": [
    {
     "data": {
      "text/plain": [
       "Osmancik    2180\n",
       "Cammeo      1630\n",
       "Name: Class, dtype: int64"
      ]
     },
     "execution_count": 17,
     "metadata": {},
     "output_type": "execute_result"
    }
   ],
   "source": [
    "df1['Class'].value_counts()"
   ]
  },
  {
   "cell_type": "markdown",
   "id": "ff8c0f21",
   "metadata": {},
   "source": [
    "#### DECISION TREE CLASSIFICATION"
   ]
  },
  {
   "cell_type": "code",
   "execution_count": 18,
   "id": "92474ff2",
   "metadata": {},
   "outputs": [],
   "source": [
    "X=df1.drop('Class',axis=1)\n",
    "y=df1['Class']"
   ]
  },
  {
   "cell_type": "code",
   "execution_count": 19,
   "id": "17ce7a0d",
   "metadata": {},
   "outputs": [],
   "source": [
    "# Split the dataset into training and testing sets using the train_test_split function\n",
    "\n",
    "X_train, X_test, y_train, y_test=train_test_split(X, y, test_size = 0.25, stratify=y, random_state=15)"
   ]
  },
  {
   "cell_type": "code",
   "execution_count": 20,
   "id": "7d9f55cb",
   "metadata": {},
   "outputs": [
    {
     "name": "stdout",
     "output_type": "stream",
     "text": [
      "(3810, 7) (2857, 7) (953, 7)\n"
     ]
    }
   ],
   "source": [
    "print(X.shape, X_train.shape, X_test.shape)"
   ]
  },
  {
   "cell_type": "code",
   "execution_count": 21,
   "id": "9c2b3936",
   "metadata": {},
   "outputs": [
    {
     "data": {
      "text/plain": [
       "Osmancik    1635\n",
       "Cammeo      1222\n",
       "Name: Class, dtype: int64"
      ]
     },
     "execution_count": 21,
     "metadata": {},
     "output_type": "execute_result"
    }
   ],
   "source": [
    "y_train.value_counts()"
   ]
  },
  {
   "cell_type": "code",
   "execution_count": 22,
   "id": "e8d6a94e",
   "metadata": {},
   "outputs": [],
   "source": [
    "cols=X_train.columns\n",
    "\n",
    "# Initialize a StandardScaler instance for feature scaling\n",
    "\n",
    "scaler = StandardScaler()\n",
    "\n",
    "# Fit the scaler on the training data and apply it to transform the training features\n",
    "\n",
    "X_train = scaler.fit_transform(X_train)\n",
    "\n",
    "# Apply the already-fitted scaler to transform the test features\n",
    "\n",
    "X_test = scaler.transform(X_test)\n",
    "X_train = pd.DataFrame(X_train, columns=[cols])\n",
    "X_test = pd.DataFrame(X_test, columns=[cols])"
   ]
  },
  {
   "cell_type": "code",
   "execution_count": 23,
   "id": "0f40da4d",
   "metadata": {},
   "outputs": [
    {
     "data": {
      "text/html": [
       "<div>\n",
       "<style scoped>\n",
       "    .dataframe tbody tr th:only-of-type {\n",
       "        vertical-align: middle;\n",
       "    }\n",
       "\n",
       "    .dataframe tbody tr th {\n",
       "        vertical-align: top;\n",
       "    }\n",
       "\n",
       "    .dataframe thead tr th {\n",
       "        text-align: left;\n",
       "    }\n",
       "</style>\n",
       "<table border=\"1\" class=\"dataframe\">\n",
       "  <thead>\n",
       "    <tr>\n",
       "      <th></th>\n",
       "      <th>Area</th>\n",
       "      <th>Perimeter</th>\n",
       "      <th>Major_Axis_Length</th>\n",
       "      <th>Minor_Axis_Length</th>\n",
       "      <th>Eccentricity</th>\n",
       "      <th>Convex_Area</th>\n",
       "      <th>Extent</th>\n",
       "    </tr>\n",
       "  </thead>\n",
       "  <tbody>\n",
       "    <tr>\n",
       "      <th>0</th>\n",
       "      <td>2.313263</td>\n",
       "      <td>1.693628</td>\n",
       "      <td>1.440571</td>\n",
       "      <td>2.451679</td>\n",
       "      <td>-0.161090</td>\n",
       "      <td>2.274018</td>\n",
       "      <td>-0.674951</td>\n",
       "    </tr>\n",
       "    <tr>\n",
       "      <th>1</th>\n",
       "      <td>1.455083</td>\n",
       "      <td>1.492192</td>\n",
       "      <td>1.162843</td>\n",
       "      <td>1.352166</td>\n",
       "      <td>0.308636</td>\n",
       "      <td>1.552619</td>\n",
       "      <td>-1.122373</td>\n",
       "    </tr>\n",
       "    <tr>\n",
       "      <th>2</th>\n",
       "      <td>0.096492</td>\n",
       "      <td>0.000240</td>\n",
       "      <td>-0.168237</td>\n",
       "      <td>0.580867</td>\n",
       "      <td>-0.523664</td>\n",
       "      <td>0.102983</td>\n",
       "      <td>-0.984858</td>\n",
       "    </tr>\n",
       "    <tr>\n",
       "      <th>3</th>\n",
       "      <td>-0.932389</td>\n",
       "      <td>-0.822810</td>\n",
       "      <td>-0.449403</td>\n",
       "      <td>-1.431767</td>\n",
       "      <td>0.710293</td>\n",
       "      <td>-0.963729</td>\n",
       "      <td>-1.206368</td>\n",
       "    </tr>\n",
       "    <tr>\n",
       "      <th>4</th>\n",
       "      <td>-0.030948</td>\n",
       "      <td>-0.123867</td>\n",
       "      <td>-0.536488</td>\n",
       "      <td>0.793653</td>\n",
       "      <td>-1.180062</td>\n",
       "      <td>0.007823</td>\n",
       "      <td>-0.431996</td>\n",
       "    </tr>\n",
       "  </tbody>\n",
       "</table>\n",
       "</div>"
      ],
      "text/plain": [
       "       Area Perimeter Major_Axis_Length Minor_Axis_Length Eccentricity  \\\n",
       "0  2.313263  1.693628          1.440571          2.451679    -0.161090   \n",
       "1  1.455083  1.492192          1.162843          1.352166     0.308636   \n",
       "2  0.096492  0.000240         -0.168237          0.580867    -0.523664   \n",
       "3 -0.932389 -0.822810         -0.449403         -1.431767     0.710293   \n",
       "4 -0.030948 -0.123867         -0.536488          0.793653    -1.180062   \n",
       "\n",
       "  Convex_Area    Extent  \n",
       "0    2.274018 -0.674951  \n",
       "1    1.552619 -1.122373  \n",
       "2    0.102983 -0.984858  \n",
       "3   -0.963729 -1.206368  \n",
       "4    0.007823 -0.431996  "
      ]
     },
     "execution_count": 23,
     "metadata": {},
     "output_type": "execute_result"
    }
   ],
   "source": [
    "X_train.head()"
   ]
  },
  {
   "cell_type": "code",
   "execution_count": 24,
   "id": "45345c80",
   "metadata": {
    "scrolled": false
   },
   "outputs": [
    {
     "data": {
      "text/html": [
       "<div>\n",
       "<style scoped>\n",
       "    .dataframe tbody tr th:only-of-type {\n",
       "        vertical-align: middle;\n",
       "    }\n",
       "\n",
       "    .dataframe tbody tr th {\n",
       "        vertical-align: top;\n",
       "    }\n",
       "\n",
       "    .dataframe thead th {\n",
       "        text-align: right;\n",
       "    }\n",
       "</style>\n",
       "<table border=\"1\" class=\"dataframe\">\n",
       "  <thead>\n",
       "    <tr style=\"text-align: right;\">\n",
       "      <th></th>\n",
       "      <th>Actual Class</th>\n",
       "      <th>Predicted Class</th>\n",
       "    </tr>\n",
       "  </thead>\n",
       "  <tbody>\n",
       "    <tr>\n",
       "      <th>3566</th>\n",
       "      <td>Osmancik</td>\n",
       "      <td>Osmancik</td>\n",
       "    </tr>\n",
       "    <tr>\n",
       "      <th>571</th>\n",
       "      <td>Cammeo</td>\n",
       "      <td>Cammeo</td>\n",
       "    </tr>\n",
       "    <tr>\n",
       "      <th>560</th>\n",
       "      <td>Cammeo</td>\n",
       "      <td>Cammeo</td>\n",
       "    </tr>\n",
       "    <tr>\n",
       "      <th>764</th>\n",
       "      <td>Cammeo</td>\n",
       "      <td>Cammeo</td>\n",
       "    </tr>\n",
       "    <tr>\n",
       "      <th>1513</th>\n",
       "      <td>Cammeo</td>\n",
       "      <td>Osmancik</td>\n",
       "    </tr>\n",
       "    <tr>\n",
       "      <th>...</th>\n",
       "      <td>...</td>\n",
       "      <td>...</td>\n",
       "    </tr>\n",
       "    <tr>\n",
       "      <th>2819</th>\n",
       "      <td>Osmancik</td>\n",
       "      <td>Osmancik</td>\n",
       "    </tr>\n",
       "    <tr>\n",
       "      <th>966</th>\n",
       "      <td>Cammeo</td>\n",
       "      <td>Cammeo</td>\n",
       "    </tr>\n",
       "    <tr>\n",
       "      <th>1253</th>\n",
       "      <td>Cammeo</td>\n",
       "      <td>Cammeo</td>\n",
       "    </tr>\n",
       "    <tr>\n",
       "      <th>3328</th>\n",
       "      <td>Osmancik</td>\n",
       "      <td>Osmancik</td>\n",
       "    </tr>\n",
       "    <tr>\n",
       "      <th>881</th>\n",
       "      <td>Cammeo</td>\n",
       "      <td>Cammeo</td>\n",
       "    </tr>\n",
       "  </tbody>\n",
       "</table>\n",
       "<p>953 rows × 2 columns</p>\n",
       "</div>"
      ],
      "text/plain": [
       "     Actual Class Predicted Class\n",
       "3566     Osmancik        Osmancik\n",
       "571        Cammeo          Cammeo\n",
       "560        Cammeo          Cammeo\n",
       "764        Cammeo          Cammeo\n",
       "1513       Cammeo        Osmancik\n",
       "...           ...             ...\n",
       "2819     Osmancik        Osmancik\n",
       "966        Cammeo          Cammeo\n",
       "1253       Cammeo          Cammeo\n",
       "3328     Osmancik        Osmancik\n",
       "881        Cammeo          Cammeo\n",
       "\n",
       "[953 rows x 2 columns]"
      ]
     },
     "execution_count": 24,
     "metadata": {},
     "output_type": "execute_result"
    }
   ],
   "source": [
    "# Initialize a DecisionTreeClassifier with the 'gini' criterion and a fixed random state for reproducibility\n",
    "\n",
    "clf = DecisionTreeClassifier(criterion='gini', random_state=0)\n",
    "\n",
    "# Fit the decision tree model on the training data (X_train, y_train)\n",
    "\n",
    "clf = clf.fit(X_train,y_train)\n",
    "\n",
    "# Predict the target values (y_pred) for the test data (X_test) using the trained model\n",
    "\n",
    "y_pred = clf.predict(X_test)\n",
    "df_1=pd.DataFrame({'Actual Class':y_test,'Predicted Class':y_pred})\n",
    "df_1"
   ]
  },
  {
   "cell_type": "code",
   "execution_count": 25,
   "id": "2ee5212e",
   "metadata": {},
   "outputs": [
    {
     "data": {
      "image/png": "[encoded data removed]",
      "text/plain": [
       "<Figure size 640x480 with 2 Axes>"
      ]
     },
     "metadata": {},
     "output_type": "display_data"
    }
   ],
   "source": [
    "# Confusion Matrix\n",
    "\n",
    "labels=df1['Class'].unique()\n",
    "cm = confusion_matrix(y_test, y_pred, labels=labels)\n",
    "disp = ConfusionMatrixDisplay(confusion_matrix=cm, display_labels=labels)\n",
    "disp.plot();"
   ]
  },
  {
   "cell_type": "code",
   "execution_count": 26,
   "id": "cf8a16f4",
   "metadata": {},
   "outputs": [
    {
     "name": "stdout",
     "output_type": "stream",
     "text": [
      "              precision    recall  f1-score   support\n",
      "\n",
      "      Cammeo       0.87      0.88      0.87       408\n",
      "    Osmancik       0.91      0.90      0.91       545\n",
      "\n",
      "    accuracy                           0.89       953\n",
      "   macro avg       0.89      0.89      0.89       953\n",
      "weighted avg       0.89      0.89      0.89       953\n",
      "\n"
     ]
    }
   ],
   "source": [
    "print(classification_report(y_test,y_pred))"
   ]
  },
  {
   "cell_type": "code",
   "execution_count": 27,
   "id": "6733af9c",
   "metadata": {},
   "outputs": [
    {
     "name": "stdout",
     "output_type": "stream",
     "text": [
      "Accuracy using Decision Tree Classification : 89.19202518363065\n"
     ]
    }
   ],
   "source": [
    "acc1=accuracy_score(y_test, y_pred)*100\n",
    "print('Accuracy using Decision Tree Classification :',acc1)"
   ]
  },
  {
   "cell_type": "code",
   "execution_count": 28,
   "id": "ff5ee636",
   "metadata": {},
   "outputs": [
    {
     "name": "stdout",
     "output_type": "stream",
     "text": [
      "Precision using Decision Tree Classification : 90.7749077490775\n"
     ]
    }
   ],
   "source": [
    "p1=precision_score(y_test, y_pred, pos_label='Osmancik')*100\n",
    "print('Precision using Decision Tree Classification :',p1)"
   ]
  },
  {
   "cell_type": "markdown",
   "id": "916403c8",
   "metadata": {},
   "source": [
    "#### BAGGING ENSEMBLE"
   ]
  },
  {
   "cell_type": "code",
   "execution_count": 29,
   "id": "faddb924",
   "metadata": {},
   "outputs": [
    {
     "data": {
      "text/plain": [
       "0.8256912845642282"
      ]
     },
     "execution_count": 29,
     "metadata": {},
     "output_type": "execute_result"
    }
   ],
   "source": [
    "# 3 classifiers\n",
    "\n",
    "bag_model=BaggingClassifier(estimator=DecisionTreeClassifier(), n_estimators=3, max_samples=0.7, \\\n",
    "                            oob_score=True, random_state=0)\n",
    "bag_model.fit(X_train, y_train)\n",
    "bag_model.oob_score_"
   ]
  },
  {
   "cell_type": "code",
   "execution_count": 30,
   "id": "86deb0fb",
   "metadata": {},
   "outputs": [
    {
     "data": {
      "text/html": [
       "<div>\n",
       "<style scoped>\n",
       "    .dataframe tbody tr th:only-of-type {\n",
       "        vertical-align: middle;\n",
       "    }\n",
       "\n",
       "    .dataframe tbody tr th {\n",
       "        vertical-align: top;\n",
       "    }\n",
       "\n",
       "    .dataframe thead th {\n",
       "        text-align: right;\n",
       "    }\n",
       "</style>\n",
       "<table border=\"1\" class=\"dataframe\">\n",
       "  <thead>\n",
       "    <tr style=\"text-align: right;\">\n",
       "      <th></th>\n",
       "      <th>Actual Class</th>\n",
       "      <th>Predicted Class</th>\n",
       "    </tr>\n",
       "  </thead>\n",
       "  <tbody>\n",
       "    <tr>\n",
       "      <th>3566</th>\n",
       "      <td>Osmancik</td>\n",
       "      <td>Osmancik</td>\n",
       "    </tr>\n",
       "    <tr>\n",
       "      <th>571</th>\n",
       "      <td>Cammeo</td>\n",
       "      <td>Cammeo</td>\n",
       "    </tr>\n",
       "    <tr>\n",
       "      <th>560</th>\n",
       "      <td>Cammeo</td>\n",
       "      <td>Cammeo</td>\n",
       "    </tr>\n",
       "    <tr>\n",
       "      <th>764</th>\n",
       "      <td>Cammeo</td>\n",
       "      <td>Cammeo</td>\n",
       "    </tr>\n",
       "    <tr>\n",
       "      <th>1513</th>\n",
       "      <td>Cammeo</td>\n",
       "      <td>Osmancik</td>\n",
       "    </tr>\n",
       "    <tr>\n",
       "      <th>...</th>\n",
       "      <td>...</td>\n",
       "      <td>...</td>\n",
       "    </tr>\n",
       "    <tr>\n",
       "      <th>2819</th>\n",
       "      <td>Osmancik</td>\n",
       "      <td>Osmancik</td>\n",
       "    </tr>\n",
       "    <tr>\n",
       "      <th>966</th>\n",
       "      <td>Cammeo</td>\n",
       "      <td>Cammeo</td>\n",
       "    </tr>\n",
       "    <tr>\n",
       "      <th>1253</th>\n",
       "      <td>Cammeo</td>\n",
       "      <td>Cammeo</td>\n",
       "    </tr>\n",
       "    <tr>\n",
       "      <th>3328</th>\n",
       "      <td>Osmancik</td>\n",
       "      <td>Osmancik</td>\n",
       "    </tr>\n",
       "    <tr>\n",
       "      <th>881</th>\n",
       "      <td>Cammeo</td>\n",
       "      <td>Cammeo</td>\n",
       "    </tr>\n",
       "  </tbody>\n",
       "</table>\n",
       "<p>953 rows × 2 columns</p>\n",
       "</div>"
      ],
      "text/plain": [
       "     Actual Class Predicted Class\n",
       "3566     Osmancik        Osmancik\n",
       "571        Cammeo          Cammeo\n",
       "560        Cammeo          Cammeo\n",
       "764        Cammeo          Cammeo\n",
       "1513       Cammeo        Osmancik\n",
       "...           ...             ...\n",
       "2819     Osmancik        Osmancik\n",
       "966        Cammeo          Cammeo\n",
       "1253       Cammeo          Cammeo\n",
       "3328     Osmancik        Osmancik\n",
       "881        Cammeo          Cammeo\n",
       "\n",
       "[953 rows x 2 columns]"
      ]
     },
     "execution_count": 30,
     "metadata": {},
     "output_type": "execute_result"
    }
   ],
   "source": [
    "y_pred=bag_model.predict(X_test)\n",
    "df_11=pd.DataFrame({'Actual Class':y_test,'Predicted Class':y_pred})\n",
    "df_11"
   ]
  },
  {
   "cell_type": "code",
   "execution_count": 31,
   "id": "96aa8abc",
   "metadata": {
    "scrolled": false
   },
   "outputs": [
    {
     "data": {
      "image/png": "[encoded data removed]",
      "text/plain": [
       "<Figure size 640x480 with 2 Axes>"
      ]
     },
     "metadata": {},
     "output_type": "display_data"
    }
   ],
   "source": [
    "labels=df1['Class'].unique()\n",
    "cm = confusion_matrix(y_test, y_pred, labels=labels)\n",
    "disp = ConfusionMatrixDisplay(confusion_matrix=cm, display_labels=labels)\n",
    "disp.plot();"
   ]
  },
  {
   "cell_type": "code",
   "execution_count": 32,
   "id": "5e343574",
   "metadata": {},
   "outputs": [
    {
     "name": "stdout",
     "output_type": "stream",
     "text": [
      "              precision    recall  f1-score   support\n",
      "\n",
      "      Cammeo       0.87      0.91      0.89       408\n",
      "    Osmancik       0.93      0.90      0.91       545\n",
      "\n",
      "    accuracy                           0.90       953\n",
      "   macro avg       0.90      0.90      0.90       953\n",
      "weighted avg       0.90      0.90      0.90       953\n",
      "\n"
     ]
    }
   ],
   "source": [
    "print(classification_report(y_test,y_pred))"
   ]
  },
  {
   "cell_type": "code",
   "execution_count": 33,
   "id": "54df167c",
   "metadata": {},
   "outputs": [
    {
     "name": "stdout",
     "output_type": "stream",
     "text": [
      "Bagging Ensemble Accuracy Score with 3 Classifiers:  90.1364113326338\n"
     ]
    }
   ],
   "source": [
    "acc2=accuracy_score(y_test, y_pred)*100\n",
    "print('Bagging Ensemble Accuracy Score with 3 Classifiers: ',acc2)"
   ]
  },
  {
   "cell_type": "code",
   "execution_count": 34,
   "id": "a3f91413",
   "metadata": {},
   "outputs": [
    {
     "name": "stdout",
     "output_type": "stream",
     "text": [
      "Bagging Ensemble Precision Score with 3 Classifiers:  92.95238095238095\n"
     ]
    }
   ],
   "source": [
    "p2=precision_score(y_test, y_pred, pos_label='Osmancik')*100\n",
    "print('Bagging Ensemble Precision Score with 3 Classifiers: ',p2)"
   ]
  },
  {
   "cell_type": "code",
   "execution_count": 35,
   "id": "5f189656",
   "metadata": {},
   "outputs": [
    {
     "data": {
      "text/plain": [
       "0.8732936646832342"
      ]
     },
     "execution_count": 35,
     "metadata": {},
     "output_type": "execute_result"
    }
   ],
   "source": [
    "# 5 classifiers\n",
    "\n",
    "bag_model=BaggingClassifier(estimator=DecisionTreeClassifier(), n_estimators=5, max_samples=0.7, \\\n",
    "                            oob_score=True, random_state=0)\n",
    "bag_model.fit(X_train, y_train)\n",
    "bag_model.oob_score_"
   ]
  },
  {
   "cell_type": "code",
   "execution_count": 36,
   "id": "37200f40",
   "metadata": {},
   "outputs": [
    {
     "name": "stdout",
     "output_type": "stream",
     "text": [
      "Bagging Ensemble Accuracy Score with 5 Classifiers:  91.2906610703043\n"
     ]
    }
   ],
   "source": [
    "y_pred=bag_model.predict(X_test)\n",
    "acc3=accuracy_score(y_test, y_pred)*100\n",
    "print('Bagging Ensemble Accuracy Score with 5 Classifiers: ',acc3)"
   ]
  },
  {
   "cell_type": "code",
   "execution_count": 37,
   "id": "248e3aee",
   "metadata": {},
   "outputs": [
    {
     "name": "stdout",
     "output_type": "stream",
     "text": [
      "Bagging Ensemble Precision Score with 5 Classifiers:  93.75\n"
     ]
    }
   ],
   "source": [
    "p3=precision_score(y_test, y_pred, pos_label='Osmancik')*100\n",
    "print('Bagging Ensemble Precision Score with 5 Classifiers: ',p3)"
   ]
  },
  {
   "cell_type": "code",
   "execution_count": 38,
   "id": "305bea1a",
   "metadata": {},
   "outputs": [
    {
     "data": {
      "text/plain": [
       "0.8946447322366118"
      ]
     },
     "execution_count": 38,
     "metadata": {},
     "output_type": "execute_result"
    }
   ],
   "source": [
    "# 7 classifiers\n",
    "\n",
    "bag_model=BaggingClassifier(estimator=DecisionTreeClassifier(), n_estimators=7, max_samples=0.7, \\\n",
    "                            oob_score=True, random_state=0)\n",
    "bag_model.fit(X_train, y_train)\n",
    "bag_model.oob_score_"
   ]
  },
  {
   "cell_type": "code",
   "execution_count": 39,
   "id": "e3b5d87a",
   "metadata": {},
   "outputs": [
    {
     "name": "stdout",
     "output_type": "stream",
     "text": [
      "Bagging Ensemble Accuracy Score with 7 Classifiers:  92.33997901364114\n"
     ]
    }
   ],
   "source": [
    "y_pred=bag_model.predict(X_test)\n",
    "acc4=accuracy_score(y_test, y_pred)*100\n",
    "print('Bagging Ensemble Accuracy Score with 7 Classifiers: ',acc4)"
   ]
  },
  {
   "cell_type": "code",
   "execution_count": 40,
   "id": "5ca93187",
   "metadata": {},
   "outputs": [
    {
     "name": "stdout",
     "output_type": "stream",
     "text": [
      "Bagging Ensemble Precision Score with 7 Classifiers:  94.52830188679245\n"
     ]
    }
   ],
   "source": [
    "p4=precision_score(y_test, y_pred, pos_label='Osmancik')*100\n",
    "print('Bagging Ensemble Precision Score with 7 Classifiers: ',p4)"
   ]
  },
  {
   "cell_type": "code",
   "execution_count": 41,
   "id": "f127895d",
   "metadata": {},
   "outputs": [
    {
     "data": {
      "text/plain": [
       "0.9068953447672383"
      ]
     },
     "execution_count": 41,
     "metadata": {},
     "output_type": "execute_result"
    }
   ],
   "source": [
    "# 9 classifiers\n",
    "\n",
    "bag_model=BaggingClassifier(estimator=DecisionTreeClassifier(), n_estimators=9, max_samples=0.7, \\\n",
    "                            oob_score=True, random_state=0)\n",
    "bag_model.fit(X_train, y_train)\n",
    "bag_model.oob_score_"
   ]
  },
  {
   "cell_type": "code",
   "execution_count": 42,
   "id": "d98db99f",
   "metadata": {},
   "outputs": [
    {
     "name": "stdout",
     "output_type": "stream",
     "text": [
      "Bagging Ensemble Accuracy Score with 9 Classifiers:  92.13011542497377\n"
     ]
    }
   ],
   "source": [
    "y_pred=bag_model.predict(X_test)\n",
    "acc5=accuracy_score(y_test, y_pred)*100\n",
    "print('Bagging Ensemble Accuracy Score with 9 Classifiers: ',acc5)"
   ]
  },
  {
   "cell_type": "code",
   "execution_count": 43,
   "id": "1fda82f3",
   "metadata": {},
   "outputs": [
    {
     "name": "stdout",
     "output_type": "stream",
     "text": [
      "Bagging Ensemble Precision Score with 9 Classifiers:  94.17293233082707\n"
     ]
    }
   ],
   "source": [
    "p5=precision_score(y_test, y_pred, pos_label='Osmancik')*100\n",
    "print('Bagging Ensemble Precision Score with 9 Classifiers: ',p5)"
   ]
  },
  {
   "cell_type": "markdown",
   "id": "c8905c0e",
   "metadata": {},
   "source": [
    "#### ADABOOST ENSEMBLE"
   ]
  },
  {
   "cell_type": "code",
   "execution_count": 44,
   "id": "52cf373b",
   "metadata": {},
   "outputs": [],
   "source": [
    "# 3 classifiers\n",
    "\n",
    "ada_model=AdaBoostClassifier(n_estimators=3, learning_rate=0.5, random_state=0)"
   ]
  },
  {
   "cell_type": "code",
   "execution_count": 45,
   "id": "13f6d056",
   "metadata": {},
   "outputs": [
    {
     "data": {
      "text/html": [
       "<div>\n",
       "<style scoped>\n",
       "    .dataframe tbody tr th:only-of-type {\n",
       "        vertical-align: middle;\n",
       "    }\n",
       "\n",
       "    .dataframe tbody tr th {\n",
       "        vertical-align: top;\n",
       "    }\n",
       "\n",
       "    .dataframe thead th {\n",
       "        text-align: right;\n",
       "    }\n",
       "</style>\n",
       "<table border=\"1\" class=\"dataframe\">\n",
       "  <thead>\n",
       "    <tr style=\"text-align: right;\">\n",
       "      <th></th>\n",
       "      <th>Actual Class</th>\n",
       "      <th>Predicted Class</th>\n",
       "    </tr>\n",
       "  </thead>\n",
       "  <tbody>\n",
       "    <tr>\n",
       "      <th>3566</th>\n",
       "      <td>Osmancik</td>\n",
       "      <td>Osmancik</td>\n",
       "    </tr>\n",
       "    <tr>\n",
       "      <th>571</th>\n",
       "      <td>Cammeo</td>\n",
       "      <td>Cammeo</td>\n",
       "    </tr>\n",
       "    <tr>\n",
       "      <th>560</th>\n",
       "      <td>Cammeo</td>\n",
       "      <td>Cammeo</td>\n",
       "    </tr>\n",
       "    <tr>\n",
       "      <th>764</th>\n",
       "      <td>Cammeo</td>\n",
       "      <td>Cammeo</td>\n",
       "    </tr>\n",
       "    <tr>\n",
       "      <th>1513</th>\n",
       "      <td>Cammeo</td>\n",
       "      <td>Osmancik</td>\n",
       "    </tr>\n",
       "    <tr>\n",
       "      <th>...</th>\n",
       "      <td>...</td>\n",
       "      <td>...</td>\n",
       "    </tr>\n",
       "    <tr>\n",
       "      <th>2819</th>\n",
       "      <td>Osmancik</td>\n",
       "      <td>Osmancik</td>\n",
       "    </tr>\n",
       "    <tr>\n",
       "      <th>966</th>\n",
       "      <td>Cammeo</td>\n",
       "      <td>Cammeo</td>\n",
       "    </tr>\n",
       "    <tr>\n",
       "      <th>1253</th>\n",
       "      <td>Cammeo</td>\n",
       "      <td>Cammeo</td>\n",
       "    </tr>\n",
       "    <tr>\n",
       "      <th>3328</th>\n",
       "      <td>Osmancik</td>\n",
       "      <td>Osmancik</td>\n",
       "    </tr>\n",
       "    <tr>\n",
       "      <th>881</th>\n",
       "      <td>Cammeo</td>\n",
       "      <td>Cammeo</td>\n",
       "    </tr>\n",
       "  </tbody>\n",
       "</table>\n",
       "<p>953 rows × 2 columns</p>\n",
       "</div>"
      ],
      "text/plain": [
       "     Actual Class Predicted Class\n",
       "3566     Osmancik        Osmancik\n",
       "571        Cammeo          Cammeo\n",
       "560        Cammeo          Cammeo\n",
       "764        Cammeo          Cammeo\n",
       "1513       Cammeo        Osmancik\n",
       "...           ...             ...\n",
       "2819     Osmancik        Osmancik\n",
       "966        Cammeo          Cammeo\n",
       "1253       Cammeo          Cammeo\n",
       "3328     Osmancik        Osmancik\n",
       "881        Cammeo          Cammeo\n",
       "\n",
       "[953 rows x 2 columns]"
      ]
     },
     "execution_count": 45,
     "metadata": {},
     "output_type": "execute_result"
    }
   ],
   "source": [
    "ada_model.fit(X_train, y_train)\n",
    "y_pred=ada_model.predict(X_test)\n",
    "df_111=pd.DataFrame({'Actual Class':y_test,'Predicted Class':y_pred})\n",
    "df_111"
   ]
  },
  {
   "cell_type": "code",
   "execution_count": 46,
   "id": "8f6bc839",
   "metadata": {},
   "outputs": [
    {
     "data": {
      "image/png": "[encoded data removed]",
      "text/plain": [
       "<Figure size 640x480 with 2 Axes>"
      ]
     },
     "metadata": {},
     "output_type": "display_data"
    }
   ],
   "source": [
    "labels=df1['Class'].unique()\n",
    "cm = confusion_matrix(y_test, y_pred, labels=labels)\n",
    "disp = ConfusionMatrixDisplay(confusion_matrix=cm, display_labels=labels)\n",
    "disp.plot();"
   ]
  },
  {
   "cell_type": "code",
   "execution_count": 47,
   "id": "3e5c5e54",
   "metadata": {},
   "outputs": [
    {
     "name": "stdout",
     "output_type": "stream",
     "text": [
      "              precision    recall  f1-score   support\n",
      "\n",
      "      Cammeo       0.90      0.94      0.92       408\n",
      "    Osmancik       0.96      0.92      0.94       545\n",
      "\n",
      "    accuracy                           0.93       953\n",
      "   macro avg       0.93      0.93      0.93       953\n",
      "weighted avg       0.93      0.93      0.93       953\n",
      "\n"
     ]
    }
   ],
   "source": [
    "print(classification_report(y_test,y_pred))"
   ]
  },
  {
   "cell_type": "code",
   "execution_count": 48,
   "id": "a3cadcd4",
   "metadata": {},
   "outputs": [
    {
     "name": "stdout",
     "output_type": "stream",
     "text": [
      "AdaBoost Ensemble Accuracy Score with 3 Classifiers:  92.96956977964324\n"
     ]
    }
   ],
   "source": [
    "acc6=accuracy_score(y_test, y_pred)*100\n",
    "print('AdaBoost Ensemble Accuracy Score with 3 Classifiers: ',acc6)"
   ]
  },
  {
   "cell_type": "code",
   "execution_count": 49,
   "id": "a94a5570",
   "metadata": {},
   "outputs": [
    {
     "name": "stdout",
     "output_type": "stream",
     "text": [
      "AdaBoost Ensemble Precision Score with 3 Classifiers:  95.61068702290076\n"
     ]
    }
   ],
   "source": [
    "p6=precision_score(y_test, y_pred, pos_label='Osmancik')*100\n",
    "print('AdaBoost Ensemble Precision Score with 3 Classifiers: ',p6)"
   ]
  },
  {
   "cell_type": "code",
   "execution_count": 50,
   "id": "be900a0a",
   "metadata": {},
   "outputs": [
    {
     "name": "stdout",
     "output_type": "stream",
     "text": [
      "AdaBoost Ensemble Accuracy Score with 5 Classifiers:  92.96956977964324\n",
      "AdaBoost Ensemble Precision Score with 5 Classifiers:  95.61068702290076\n"
     ]
    }
   ],
   "source": [
    "# 5 classifiers\n",
    "\n",
    "ada_model=AdaBoostClassifier(n_estimators=5, learning_rate=0.5, random_state=0)\n",
    "ada_model.fit(X_train, y_train)\n",
    "y_pred=ada_model.predict(X_test)\n",
    "acc7=accuracy_score(y_test, y_pred)*100\n",
    "print('AdaBoost Ensemble Accuracy Score with 5 Classifiers: ',acc7)\n",
    "p7=precision_score(y_test, y_pred, pos_label='Osmancik')*100\n",
    "print('AdaBoost Ensemble Precision Score with 5 Classifiers: ',p7)"
   ]
  },
  {
   "cell_type": "code",
   "execution_count": 51,
   "id": "2a5e37f4",
   "metadata": {},
   "outputs": [
    {
     "name": "stdout",
     "output_type": "stream",
     "text": [
      "AdaBoost Ensemble Accuracy Score with 7 Classifiers:  92.96956977964324\n",
      "AdaBoost Ensemble Precision Score with 7 Classifiers:  95.61068702290076\n"
     ]
    }
   ],
   "source": [
    "# 7 classifiers\n",
    "\n",
    "ada_model=AdaBoostClassifier(n_estimators=7, learning_rate=0.5, random_state=0)\n",
    "ada_model.fit(X_train, y_train)\n",
    "y_pred=ada_model.predict(X_test)\n",
    "acc8=accuracy_score(y_test, y_pred)*100\n",
    "print('AdaBoost Ensemble Accuracy Score with 7 Classifiers: ',acc8)\n",
    "p8=precision_score(y_test, y_pred, pos_label='Osmancik')*100\n",
    "print('AdaBoost Ensemble Precision Score with 7 Classifiers: ',p8)"
   ]
  },
  {
   "cell_type": "code",
   "execution_count": 52,
   "id": "5a39f8f0",
   "metadata": {},
   "outputs": [
    {
     "name": "stdout",
     "output_type": "stream",
     "text": [
      "AdaBoost Ensemble Accuracy Score with 9 Classifiers:  92.96956977964324\n",
      "AdaBoost Ensemble Precision Score with 9 Classifiers:  95.61068702290076\n"
     ]
    }
   ],
   "source": [
    "# 9 classifiers\n",
    "\n",
    "ada_model=AdaBoostClassifier(n_estimators=9, learning_rate=0.5, random_state=0)\n",
    "ada_model.fit(X_train, y_train)\n",
    "y_pred=ada_model.predict(X_test)\n",
    "acc9=accuracy_score(y_test, y_pred)*100\n",
    "print('AdaBoost Ensemble Accuracy Score with 9 Classifiers: ',acc9)\n",
    "p9=precision_score(y_test, y_pred, pos_label='Osmancik')*100\n",
    "print('AdaBoost Ensemble Precision Score with 9 Classifiers: ',p9)"
   ]
  },
  {
   "cell_type": "markdown",
   "id": "f8877981",
   "metadata": {},
   "source": [
    "#### ACCURACY AND PRECISION SCORES PLOTTING"
   ]
  },
  {
   "cell_type": "code",
   "execution_count": 53,
   "id": "4f107a91",
   "metadata": {
    "scrolled": false
   },
   "outputs": [
    {
     "data": {
      "image/png": "[encoded data removed]",
      "text/plain": [
       "<Figure size 1000x600 with 1 Axes>"
      ]
     },
     "metadata": {},
     "output_type": "display_data"
    }
   ],
   "source": [
    "data1={'Bagging': [acc2, acc3, acc4, acc5],\n",
    "         'AdaBoost': [acc6, acc7, acc8, acc9]}\n",
    "_df1=pd.DataFrame(data1, columns=['Bagging', 'AdaBoost'],\n",
    "                   index=['3 Classifiers', '5 Classifiers', '7 Classifiers', '9 Classifiers'])\n",
    "fig, ax = plt.subplots(figsize=(10, 6))\n",
    "_df1.plot.bar(ax=ax, rot=0)\n",
    "def addlabels(ax):\n",
    "    for p in ax.patches:\n",
    "        ax.annotate(f'{p.get_height():.2f}', \n",
    "                    (p.get_x() + p.get_width() / 2., p.get_height() + 0.01), \n",
    "                    ha='center', va='bottom')\n",
    "addlabels(ax)\n",
    "ax.legend(loc='upper left', bbox_to_anchor=(1, 1))\n",
    "plt.title(\"ACCURACY SCORE of BAGGING and ADABOOST ENSEMBLE on DATASET 1\")\n",
    "plt.xlabel(\"DATASET 1\")\n",
    "plt.ylabel(\"ACCURACY SCORES\")\n",
    "plt.tight_layout() \n",
    "plt.show()"
   ]
  },
  {
   "cell_type": "code",
   "execution_count": 54,
   "id": "02204abf",
   "metadata": {},
   "outputs": [
    {
     "data": {
      "image/png": "[encoded data removed]",
      "text/plain": [
       "<Figure size 1000x600 with 1 Axes>"
      ]
     },
     "metadata": {},
     "output_type": "display_data"
    }
   ],
   "source": [
    "data2={'Bagging': [p2, p3, p4, p5],\n",
    "         'AdaBoost': [p6, p7, p8, p9]}\n",
    "_df2=pd.DataFrame(data2, columns=['Bagging', 'AdaBoost'],\n",
    "                   index=['3 Classifiers', '5 Classifiers', '7 Classifiers', '9 Classifiers'])\n",
    "fig, ax = plt.subplots(figsize=(10, 6))\n",
    "_df2.plot.bar(ax=ax, rot=0)\n",
    "def addlabels(ax):\n",
    "    for p in ax.patches:\n",
    "        ax.annotate(f'{p.get_height():.2f}', \n",
    "                    (p.get_x() + p.get_width() / 2., p.get_height() + 0.01), \n",
    "                    ha='center', va='bottom')\n",
    "addlabels(ax)\n",
    "ax.legend(loc='upper left', bbox_to_anchor=(1, 1))\n",
    "plt.title(\"PRECISION SCORE of BAGGING and ADABOOST ENSEMBLE on DATASET 1\")\n",
    "plt.xlabel(\"DATASET 1\")\n",
    "plt.ylabel(\"PRECISION SCORES\")\n",
    "plt.tight_layout() \n",
    "plt.show()"
   ]
  },
  {
   "cell_type": "markdown",
   "id": "5ad7b8d7",
   "metadata": {},
   "source": [
    "*****"
   ]
  },
  {
   "cell_type": "markdown",
   "id": "1a99a009",
   "metadata": {},
   "source": [
    "#### DATASET-2 Dry Bean"
   ]
  },
  {
   "cell_type": "code",
   "execution_count": 55,
   "id": "18e377ad",
   "metadata": {},
   "outputs": [
    {
     "data": {
      "text/html": [
       "<div>\n",
       "<style scoped>\n",
       "    .dataframe tbody tr th:only-of-type {\n",
       "        vertical-align: middle;\n",
       "    }\n",
       "\n",
       "    .dataframe tbody tr th {\n",
       "        vertical-align: top;\n",
       "    }\n",
       "\n",
       "    .dataframe thead th {\n",
       "        text-align: right;\n",
       "    }\n",
       "</style>\n",
       "<table border=\"1\" class=\"dataframe\">\n",
       "  <thead>\n",
       "    <tr style=\"text-align: right;\">\n",
       "      <th></th>\n",
       "      <th>Area</th>\n",
       "      <th>Perimeter</th>\n",
       "      <th>MajorAxisLength</th>\n",
       "      <th>MinorAxisLength</th>\n",
       "      <th>AspectRatio</th>\n",
       "      <th>Eccentricity</th>\n",
       "      <th>ConvexArea</th>\n",
       "      <th>EquivDiameter</th>\n",
       "      <th>Extent</th>\n",
       "      <th>Solidity</th>\n",
       "      <th>Roundness</th>\n",
       "      <th>Compactness</th>\n",
       "      <th>ShapeFactor1</th>\n",
       "      <th>ShapeFactor2</th>\n",
       "      <th>ShapeFactor3</th>\n",
       "      <th>ShapeFactor4</th>\n",
       "      <th>Class</th>\n",
       "    </tr>\n",
       "  </thead>\n",
       "  <tbody>\n",
       "    <tr>\n",
       "      <th>0</th>\n",
       "      <td>28395</td>\n",
       "      <td>610.291</td>\n",
       "      <td>208.178117</td>\n",
       "      <td>173.888747</td>\n",
       "      <td>1.197191</td>\n",
       "      <td>0.549812</td>\n",
       "      <td>28715</td>\n",
       "      <td>190.141097</td>\n",
       "      <td>0.763923</td>\n",
       "      <td>0.988856</td>\n",
       "      <td>0.958027</td>\n",
       "      <td>0.913358</td>\n",
       "      <td>0.007332</td>\n",
       "      <td>0.003147</td>\n",
       "      <td>0.834222</td>\n",
       "      <td>0.998724</td>\n",
       "      <td>SEKER</td>\n",
       "    </tr>\n",
       "    <tr>\n",
       "      <th>1</th>\n",
       "      <td>28734</td>\n",
       "      <td>638.018</td>\n",
       "      <td>200.524796</td>\n",
       "      <td>182.734419</td>\n",
       "      <td>1.097356</td>\n",
       "      <td>0.411785</td>\n",
       "      <td>29172</td>\n",
       "      <td>191.272751</td>\n",
       "      <td>0.783968</td>\n",
       "      <td>0.984986</td>\n",
       "      <td>0.887034</td>\n",
       "      <td>0.953861</td>\n",
       "      <td>0.006979</td>\n",
       "      <td>0.003564</td>\n",
       "      <td>0.909851</td>\n",
       "      <td>0.998430</td>\n",
       "      <td>SEKER</td>\n",
       "    </tr>\n",
       "    <tr>\n",
       "      <th>2</th>\n",
       "      <td>29380</td>\n",
       "      <td>624.110</td>\n",
       "      <td>212.826130</td>\n",
       "      <td>175.931143</td>\n",
       "      <td>1.209713</td>\n",
       "      <td>0.562727</td>\n",
       "      <td>29690</td>\n",
       "      <td>193.410904</td>\n",
       "      <td>0.778113</td>\n",
       "      <td>0.989559</td>\n",
       "      <td>0.947849</td>\n",
       "      <td>0.908774</td>\n",
       "      <td>0.007244</td>\n",
       "      <td>0.003048</td>\n",
       "      <td>0.825871</td>\n",
       "      <td>0.999066</td>\n",
       "      <td>SEKER</td>\n",
       "    </tr>\n",
       "    <tr>\n",
       "      <th>3</th>\n",
       "      <td>30008</td>\n",
       "      <td>645.884</td>\n",
       "      <td>210.557999</td>\n",
       "      <td>182.516516</td>\n",
       "      <td>1.153638</td>\n",
       "      <td>0.498616</td>\n",
       "      <td>30724</td>\n",
       "      <td>195.467062</td>\n",
       "      <td>0.782681</td>\n",
       "      <td>0.976696</td>\n",
       "      <td>0.903936</td>\n",
       "      <td>0.928329</td>\n",
       "      <td>0.007017</td>\n",
       "      <td>0.003215</td>\n",
       "      <td>0.861794</td>\n",
       "      <td>0.994199</td>\n",
       "      <td>SEKER</td>\n",
       "    </tr>\n",
       "    <tr>\n",
       "      <th>4</th>\n",
       "      <td>30140</td>\n",
       "      <td>620.134</td>\n",
       "      <td>201.847882</td>\n",
       "      <td>190.279279</td>\n",
       "      <td>1.060798</td>\n",
       "      <td>0.333680</td>\n",
       "      <td>30417</td>\n",
       "      <td>195.896503</td>\n",
       "      <td>0.773098</td>\n",
       "      <td>0.990893</td>\n",
       "      <td>0.984877</td>\n",
       "      <td>0.970516</td>\n",
       "      <td>0.006697</td>\n",
       "      <td>0.003665</td>\n",
       "      <td>0.941900</td>\n",
       "      <td>0.999166</td>\n",
       "      <td>SEKER</td>\n",
       "    </tr>\n",
       "  </tbody>\n",
       "</table>\n",
       "</div>"
      ],
      "text/plain": [
       "    Area  Perimeter  MajorAxisLength  MinorAxisLength  AspectRatio  \\\n",
       "0  28395    610.291       208.178117       173.888747     1.197191   \n",
       "1  28734    638.018       200.524796       182.734419     1.097356   \n",
       "2  29380    624.110       212.826130       175.931143     1.209713   \n",
       "3  30008    645.884       210.557999       182.516516     1.153638   \n",
       "4  30140    620.134       201.847882       190.279279     1.060798   \n",
       "\n",
       "   Eccentricity  ConvexArea  EquivDiameter    Extent  Solidity  Roundness  \\\n",
       "0      0.549812       28715     190.141097  0.763923  0.988856   0.958027   \n",
       "1      0.411785       29172     191.272751  0.783968  0.984986   0.887034   \n",
       "2      0.562727       29690     193.410904  0.778113  0.989559   0.947849   \n",
       "3      0.498616       30724     195.467062  0.782681  0.976696   0.903936   \n",
       "4      0.333680       30417     195.896503  0.773098  0.990893   0.984877   \n",
       "\n",
       "   Compactness  ShapeFactor1  ShapeFactor2  ShapeFactor3  ShapeFactor4  Class  \n",
       "0     0.913358      0.007332      0.003147      0.834222      0.998724  SEKER  \n",
       "1     0.953861      0.006979      0.003564      0.909851      0.998430  SEKER  \n",
       "2     0.908774      0.007244      0.003048      0.825871      0.999066  SEKER  \n",
       "3     0.928329      0.007017      0.003215      0.861794      0.994199  SEKER  \n",
       "4     0.970516      0.006697      0.003665      0.941900      0.999166  SEKER  "
      ]
     },
     "execution_count": 55,
     "metadata": {},
     "output_type": "execute_result"
    }
   ],
   "source": [
    "dry_bean = fetch_ucirepo(id=602)  \n",
    "X_= dry_bean.data.features \n",
    "y_= dry_bean.data.targets \n",
    "frames2=[X_,y_]\n",
    "df2=pd.concat(frames2,axis=1)\n",
    "df2.head()"
   ]
  },
  {
   "cell_type": "code",
   "execution_count": 56,
   "id": "0a40f05f",
   "metadata": {},
   "outputs": [
    {
     "data": {
      "text/plain": [
       "(13611, 17)"
      ]
     },
     "execution_count": 56,
     "metadata": {},
     "output_type": "execute_result"
    }
   ],
   "source": [
    "df2.shape"
   ]
  },
  {
   "cell_type": "code",
   "execution_count": 57,
   "id": "949669dd",
   "metadata": {},
   "outputs": [
    {
     "name": "stdout",
     "output_type": "stream",
     "text": [
      "<class 'pandas.core.frame.DataFrame'>\n",
      "RangeIndex: 13611 entries, 0 to 13610\n",
      "Data columns (total 17 columns):\n",
      " #   Column           Non-Null Count  Dtype  \n",
      "---  ------           --------------  -----  \n",
      " 0   Area             13611 non-null  int64  \n",
      " 1   Perimeter        13611 non-null  float64\n",
      " 2   MajorAxisLength  13611 non-null  float64\n",
      " 3   MinorAxisLength  13611 non-null  float64\n",
      " 4   AspectRatio      13611 non-null  float64\n",
      " 5   Eccentricity     13611 non-null  float64\n",
      " 6   ConvexArea       13611 non-null  int64  \n",
      " 7   EquivDiameter    13611 non-null  float64\n",
      " 8   Extent           13611 non-null  float64\n",
      " 9   Solidity         13611 non-null  float64\n",
      " 10  Roundness        13611 non-null  float64\n",
      " 11  Compactness      13611 non-null  float64\n",
      " 12  ShapeFactor1     13611 non-null  float64\n",
      " 13  ShapeFactor2     13611 non-null  float64\n",
      " 14  ShapeFactor3     13611 non-null  float64\n",
      " 15  ShapeFactor4     13611 non-null  float64\n",
      " 16  Class            13611 non-null  object \n",
      "dtypes: float64(14), int64(2), object(1)\n",
      "memory usage: 1.8+ MB\n"
     ]
    }
   ],
   "source": [
    "df2.info()"
   ]
  },
  {
   "cell_type": "code",
   "execution_count": 58,
   "id": "010a3fc6",
   "metadata": {},
   "outputs": [
    {
     "data": {
      "text/html": [
       "<div>\n",
       "<style scoped>\n",
       "    .dataframe tbody tr th:only-of-type {\n",
       "        vertical-align: middle;\n",
       "    }\n",
       "\n",
       "    .dataframe tbody tr th {\n",
       "        vertical-align: top;\n",
       "    }\n",
       "\n",
       "    .dataframe thead th {\n",
       "        text-align: right;\n",
       "    }\n",
       "</style>\n",
       "<table border=\"1\" class=\"dataframe\">\n",
       "  <thead>\n",
       "    <tr style=\"text-align: right;\">\n",
       "      <th></th>\n",
       "      <th>column</th>\n",
       "      <th>type</th>\n",
       "      <th>unique value</th>\n",
       "    </tr>\n",
       "  </thead>\n",
       "  <tbody>\n",
       "    <tr>\n",
       "      <th>0</th>\n",
       "      <td>Area</td>\n",
       "      <td>int64</td>\n",
       "      <td>12011</td>\n",
       "    </tr>\n",
       "    <tr>\n",
       "      <th>1</th>\n",
       "      <td>Perimeter</td>\n",
       "      <td>float64</td>\n",
       "      <td>13351</td>\n",
       "    </tr>\n",
       "    <tr>\n",
       "      <th>2</th>\n",
       "      <td>MajorAxisLength</td>\n",
       "      <td>float64</td>\n",
       "      <td>13543</td>\n",
       "    </tr>\n",
       "    <tr>\n",
       "      <th>3</th>\n",
       "      <td>MinorAxisLength</td>\n",
       "      <td>float64</td>\n",
       "      <td>13543</td>\n",
       "    </tr>\n",
       "    <tr>\n",
       "      <th>4</th>\n",
       "      <td>AspectRatio</td>\n",
       "      <td>float64</td>\n",
       "      <td>13543</td>\n",
       "    </tr>\n",
       "    <tr>\n",
       "      <th>5</th>\n",
       "      <td>Eccentricity</td>\n",
       "      <td>float64</td>\n",
       "      <td>13543</td>\n",
       "    </tr>\n",
       "    <tr>\n",
       "      <th>6</th>\n",
       "      <td>ConvexArea</td>\n",
       "      <td>int64</td>\n",
       "      <td>12066</td>\n",
       "    </tr>\n",
       "    <tr>\n",
       "      <th>7</th>\n",
       "      <td>EquivDiameter</td>\n",
       "      <td>float64</td>\n",
       "      <td>12011</td>\n",
       "    </tr>\n",
       "    <tr>\n",
       "      <th>8</th>\n",
       "      <td>Extent</td>\n",
       "      <td>float64</td>\n",
       "      <td>13535</td>\n",
       "    </tr>\n",
       "    <tr>\n",
       "      <th>9</th>\n",
       "      <td>Solidity</td>\n",
       "      <td>float64</td>\n",
       "      <td>13522</td>\n",
       "    </tr>\n",
       "    <tr>\n",
       "      <th>10</th>\n",
       "      <td>Roundness</td>\n",
       "      <td>float64</td>\n",
       "      <td>13540</td>\n",
       "    </tr>\n",
       "    <tr>\n",
       "      <th>11</th>\n",
       "      <td>Compactness</td>\n",
       "      <td>float64</td>\n",
       "      <td>13543</td>\n",
       "    </tr>\n",
       "    <tr>\n",
       "      <th>12</th>\n",
       "      <td>ShapeFactor1</td>\n",
       "      <td>float64</td>\n",
       "      <td>13521</td>\n",
       "    </tr>\n",
       "    <tr>\n",
       "      <th>13</th>\n",
       "      <td>ShapeFactor2</td>\n",
       "      <td>float64</td>\n",
       "      <td>13506</td>\n",
       "    </tr>\n",
       "    <tr>\n",
       "      <th>14</th>\n",
       "      <td>ShapeFactor3</td>\n",
       "      <td>float64</td>\n",
       "      <td>13543</td>\n",
       "    </tr>\n",
       "    <tr>\n",
       "      <th>15</th>\n",
       "      <td>ShapeFactor4</td>\n",
       "      <td>float64</td>\n",
       "      <td>13532</td>\n",
       "    </tr>\n",
       "    <tr>\n",
       "      <th>16</th>\n",
       "      <td>Class</td>\n",
       "      <td>object</td>\n",
       "      <td>7</td>\n",
       "    </tr>\n",
       "  </tbody>\n",
       "</table>\n",
       "</div>"
      ],
      "text/plain": [
       "             column     type  unique value\n",
       "0              Area    int64         12011\n",
       "1         Perimeter  float64         13351\n",
       "2   MajorAxisLength  float64         13543\n",
       "3   MinorAxisLength  float64         13543\n",
       "4       AspectRatio  float64         13543\n",
       "5      Eccentricity  float64         13543\n",
       "6        ConvexArea    int64         12066\n",
       "7     EquivDiameter  float64         12011\n",
       "8            Extent  float64         13535\n",
       "9          Solidity  float64         13522\n",
       "10        Roundness  float64         13540\n",
       "11      Compactness  float64         13543\n",
       "12     ShapeFactor1  float64         13521\n",
       "13     ShapeFactor2  float64         13506\n",
       "14     ShapeFactor3  float64         13543\n",
       "15     ShapeFactor4  float64         13532\n",
       "16            Class   object             7"
      ]
     },
     "execution_count": 58,
     "metadata": {},
     "output_type": "execute_result"
    }
   ],
   "source": [
    "d = []\n",
    "u = []\n",
    "t = []\n",
    "for col in df2:\n",
    "    d.append(col)\n",
    "    u.append(df2[col].nunique())\n",
    "    t.append(df2[col].dtype)\n",
    "pd.DataFrame({'column':d,'type': t ,'unique value' : u})"
   ]
  },
  {
   "cell_type": "code",
   "execution_count": 59,
   "id": "a0397a8e",
   "metadata": {},
   "outputs": [
    {
     "data": {
      "text/plain": [
       "array(['SEKER', 'BARBUNYA', 'BOMBAY', 'CALI', 'HOROZ', 'SIRA', 'DERMASON'],\n",
       "      dtype=object)"
      ]
     },
     "execution_count": 59,
     "metadata": {},
     "output_type": "execute_result"
    }
   ],
   "source": [
    "df2['Class'].unique()"
   ]
  },
  {
   "cell_type": "code",
   "execution_count": 60,
   "id": "dfb32862",
   "metadata": {},
   "outputs": [
    {
     "data": {
      "text/plain": [
       "Area               0\n",
       "Perimeter          0\n",
       "MajorAxisLength    0\n",
       "MinorAxisLength    0\n",
       "AspectRatio        0\n",
       "Eccentricity       0\n",
       "ConvexArea         0\n",
       "EquivDiameter      0\n",
       "Extent             0\n",
       "Solidity           0\n",
       "Roundness          0\n",
       "Compactness        0\n",
       "ShapeFactor1       0\n",
       "ShapeFactor2       0\n",
       "ShapeFactor3       0\n",
       "ShapeFactor4       0\n",
       "Class              0\n",
       "dtype: int64"
      ]
     },
     "execution_count": 60,
     "metadata": {},
     "output_type": "execute_result"
    }
   ],
   "source": [
    "df2.isnull().sum()"
   ]
  },
  {
   "cell_type": "code",
   "execution_count": 61,
   "id": "90509b3b",
   "metadata": {},
   "outputs": [
    {
     "data": {
      "text/plain": [
       "68"
      ]
     },
     "execution_count": 61,
     "metadata": {},
     "output_type": "execute_result"
    }
   ],
   "source": [
    "df2.duplicated().sum()"
   ]
  },
  {
   "cell_type": "code",
   "execution_count": 62,
   "id": "104533d6",
   "metadata": {},
   "outputs": [],
   "source": [
    "# Dropping Duplicate Values\n",
    "\n",
    "df2.drop_duplicates(keep='first', inplace=True, ignore_index=True)"
   ]
  },
  {
   "cell_type": "code",
   "execution_count": 63,
   "id": "3604f91c",
   "metadata": {},
   "outputs": [
    {
     "name": "stdout",
     "output_type": "stream",
     "text": [
      "<class 'pandas.core.frame.DataFrame'>\n",
      "RangeIndex: 13543 entries, 0 to 13542\n",
      "Data columns (total 17 columns):\n",
      " #   Column           Non-Null Count  Dtype  \n",
      "---  ------           --------------  -----  \n",
      " 0   Area             13543 non-null  int64  \n",
      " 1   Perimeter        13543 non-null  float64\n",
      " 2   MajorAxisLength  13543 non-null  float64\n",
      " 3   MinorAxisLength  13543 non-null  float64\n",
      " 4   AspectRatio      13543 non-null  float64\n",
      " 5   Eccentricity     13543 non-null  float64\n",
      " 6   ConvexArea       13543 non-null  int64  \n",
      " 7   EquivDiameter    13543 non-null  float64\n",
      " 8   Extent           13543 non-null  float64\n",
      " 9   Solidity         13543 non-null  float64\n",
      " 10  Roundness        13543 non-null  float64\n",
      " 11  Compactness      13543 non-null  float64\n",
      " 12  ShapeFactor1     13543 non-null  float64\n",
      " 13  ShapeFactor2     13543 non-null  float64\n",
      " 14  ShapeFactor3     13543 non-null  float64\n",
      " 15  ShapeFactor4     13543 non-null  float64\n",
      " 16  Class            13543 non-null  object \n",
      "dtypes: float64(14), int64(2), object(1)\n",
      "memory usage: 1.8+ MB\n"
     ]
    }
   ],
   "source": [
    "df2.info()"
   ]
  },
  {
   "cell_type": "code",
   "execution_count": 64,
   "id": "aae1b2c0",
   "metadata": {},
   "outputs": [
    {
     "data": {
      "text/html": [
       "<div>\n",
       "<style scoped>\n",
       "    .dataframe tbody tr th:only-of-type {\n",
       "        vertical-align: middle;\n",
       "    }\n",
       "\n",
       "    .dataframe tbody tr th {\n",
       "        vertical-align: top;\n",
       "    }\n",
       "\n",
       "    .dataframe thead th {\n",
       "        text-align: right;\n",
       "    }\n",
       "</style>\n",
       "<table border=\"1\" class=\"dataframe\">\n",
       "  <thead>\n",
       "    <tr style=\"text-align: right;\">\n",
       "      <th></th>\n",
       "      <th>Area</th>\n",
       "      <th>Perimeter</th>\n",
       "      <th>MajorAxisLength</th>\n",
       "      <th>MinorAxisLength</th>\n",
       "      <th>AspectRatio</th>\n",
       "      <th>Eccentricity</th>\n",
       "      <th>ConvexArea</th>\n",
       "      <th>EquivDiameter</th>\n",
       "      <th>Extent</th>\n",
       "      <th>Solidity</th>\n",
       "      <th>Roundness</th>\n",
       "      <th>Compactness</th>\n",
       "      <th>ShapeFactor1</th>\n",
       "      <th>ShapeFactor2</th>\n",
       "      <th>ShapeFactor3</th>\n",
       "      <th>ShapeFactor4</th>\n",
       "      <th>Class</th>\n",
       "    </tr>\n",
       "  </thead>\n",
       "  <tbody>\n",
       "    <tr>\n",
       "      <th>0</th>\n",
       "      <td>28395</td>\n",
       "      <td>610.291</td>\n",
       "      <td>208.178117</td>\n",
       "      <td>173.888747</td>\n",
       "      <td>1.197191</td>\n",
       "      <td>0.549812</td>\n",
       "      <td>28715</td>\n",
       "      <td>190.141097</td>\n",
       "      <td>0.763923</td>\n",
       "      <td>0.988856</td>\n",
       "      <td>0.958027</td>\n",
       "      <td>0.913358</td>\n",
       "      <td>0.007332</td>\n",
       "      <td>0.003147</td>\n",
       "      <td>0.834222</td>\n",
       "      <td>0.998724</td>\n",
       "      <td>SEKER</td>\n",
       "    </tr>\n",
       "    <tr>\n",
       "      <th>1</th>\n",
       "      <td>28734</td>\n",
       "      <td>638.018</td>\n",
       "      <td>200.524796</td>\n",
       "      <td>182.734419</td>\n",
       "      <td>1.097356</td>\n",
       "      <td>0.411785</td>\n",
       "      <td>29172</td>\n",
       "      <td>191.272751</td>\n",
       "      <td>0.783968</td>\n",
       "      <td>0.984986</td>\n",
       "      <td>0.887034</td>\n",
       "      <td>0.953861</td>\n",
       "      <td>0.006979</td>\n",
       "      <td>0.003564</td>\n",
       "      <td>0.909851</td>\n",
       "      <td>0.998430</td>\n",
       "      <td>SEKER</td>\n",
       "    </tr>\n",
       "    <tr>\n",
       "      <th>2</th>\n",
       "      <td>29380</td>\n",
       "      <td>624.110</td>\n",
       "      <td>212.826130</td>\n",
       "      <td>175.931143</td>\n",
       "      <td>1.209713</td>\n",
       "      <td>0.562727</td>\n",
       "      <td>29690</td>\n",
       "      <td>193.410904</td>\n",
       "      <td>0.778113</td>\n",
       "      <td>0.989559</td>\n",
       "      <td>0.947849</td>\n",
       "      <td>0.908774</td>\n",
       "      <td>0.007244</td>\n",
       "      <td>0.003048</td>\n",
       "      <td>0.825871</td>\n",
       "      <td>0.999066</td>\n",
       "      <td>SEKER</td>\n",
       "    </tr>\n",
       "    <tr>\n",
       "      <th>3</th>\n",
       "      <td>30008</td>\n",
       "      <td>645.884</td>\n",
       "      <td>210.557999</td>\n",
       "      <td>182.516516</td>\n",
       "      <td>1.153638</td>\n",
       "      <td>0.498616</td>\n",
       "      <td>30724</td>\n",
       "      <td>195.467062</td>\n",
       "      <td>0.782681</td>\n",
       "      <td>0.976696</td>\n",
       "      <td>0.903936</td>\n",
       "      <td>0.928329</td>\n",
       "      <td>0.007017</td>\n",
       "      <td>0.003215</td>\n",
       "      <td>0.861794</td>\n",
       "      <td>0.994199</td>\n",
       "      <td>SEKER</td>\n",
       "    </tr>\n",
       "    <tr>\n",
       "      <th>4</th>\n",
       "      <td>30140</td>\n",
       "      <td>620.134</td>\n",
       "      <td>201.847882</td>\n",
       "      <td>190.279279</td>\n",
       "      <td>1.060798</td>\n",
       "      <td>0.333680</td>\n",
       "      <td>30417</td>\n",
       "      <td>195.896503</td>\n",
       "      <td>0.773098</td>\n",
       "      <td>0.990893</td>\n",
       "      <td>0.984877</td>\n",
       "      <td>0.970516</td>\n",
       "      <td>0.006697</td>\n",
       "      <td>0.003665</td>\n",
       "      <td>0.941900</td>\n",
       "      <td>0.999166</td>\n",
       "      <td>SEKER</td>\n",
       "    </tr>\n",
       "  </tbody>\n",
       "</table>\n",
       "</div>"
      ],
      "text/plain": [
       "    Area  Perimeter  MajorAxisLength  MinorAxisLength  AspectRatio  \\\n",
       "0  28395    610.291       208.178117       173.888747     1.197191   \n",
       "1  28734    638.018       200.524796       182.734419     1.097356   \n",
       "2  29380    624.110       212.826130       175.931143     1.209713   \n",
       "3  30008    645.884       210.557999       182.516516     1.153638   \n",
       "4  30140    620.134       201.847882       190.279279     1.060798   \n",
       "\n",
       "   Eccentricity  ConvexArea  EquivDiameter    Extent  Solidity  Roundness  \\\n",
       "0      0.549812       28715     190.141097  0.763923  0.988856   0.958027   \n",
       "1      0.411785       29172     191.272751  0.783968  0.984986   0.887034   \n",
       "2      0.562727       29690     193.410904  0.778113  0.989559   0.947849   \n",
       "3      0.498616       30724     195.467062  0.782681  0.976696   0.903936   \n",
       "4      0.333680       30417     195.896503  0.773098  0.990893   0.984877   \n",
       "\n",
       "   Compactness  ShapeFactor1  ShapeFactor2  ShapeFactor3  ShapeFactor4  Class  \n",
       "0     0.913358      0.007332      0.003147      0.834222      0.998724  SEKER  \n",
       "1     0.953861      0.006979      0.003564      0.909851      0.998430  SEKER  \n",
       "2     0.908774      0.007244      0.003048      0.825871      0.999066  SEKER  \n",
       "3     0.928329      0.007017      0.003215      0.861794      0.994199  SEKER  \n",
       "4     0.970516      0.006697      0.003665      0.941900      0.999166  SEKER  "
      ]
     },
     "execution_count": 64,
     "metadata": {},
     "output_type": "execute_result"
    }
   ],
   "source": [
    "df2.head()"
   ]
  },
  {
   "cell_type": "code",
   "execution_count": 65,
   "id": "ed6cd9bc",
   "metadata": {},
   "outputs": [
    {
     "data": {
      "text/html": [
       "<div>\n",
       "<style scoped>\n",
       "    .dataframe tbody tr th:only-of-type {\n",
       "        vertical-align: middle;\n",
       "    }\n",
       "\n",
       "    .dataframe tbody tr th {\n",
       "        vertical-align: top;\n",
       "    }\n",
       "\n",
       "    .dataframe thead th {\n",
       "        text-align: right;\n",
       "    }\n",
       "</style>\n",
       "<table border=\"1\" class=\"dataframe\">\n",
       "  <thead>\n",
       "    <tr style=\"text-align: right;\">\n",
       "      <th></th>\n",
       "      <th>Class</th>\n",
       "    </tr>\n",
       "  </thead>\n",
       "  <tbody>\n",
       "    <tr>\n",
       "      <th>count</th>\n",
       "      <td>13543</td>\n",
       "    </tr>\n",
       "    <tr>\n",
       "      <th>unique</th>\n",
       "      <td>7</td>\n",
       "    </tr>\n",
       "    <tr>\n",
       "      <th>top</th>\n",
       "      <td>DERMASON</td>\n",
       "    </tr>\n",
       "    <tr>\n",
       "      <th>freq</th>\n",
       "      <td>3546</td>\n",
       "    </tr>\n",
       "  </tbody>\n",
       "</table>\n",
       "</div>"
      ],
      "text/plain": [
       "           Class\n",
       "count      13543\n",
       "unique         7\n",
       "top     DERMASON\n",
       "freq        3546"
      ]
     },
     "execution_count": 65,
     "metadata": {},
     "output_type": "execute_result"
    }
   ],
   "source": [
    "df2.describe(include='object')"
   ]
  },
  {
   "cell_type": "code",
   "execution_count": 66,
   "id": "a71e5cc8",
   "metadata": {},
   "outputs": [
    {
     "data": {
      "text/html": [
       "<div>\n",
       "<style scoped>\n",
       "    .dataframe tbody tr th:only-of-type {\n",
       "        vertical-align: middle;\n",
       "    }\n",
       "\n",
       "    .dataframe tbody tr th {\n",
       "        vertical-align: top;\n",
       "    }\n",
       "\n",
       "    .dataframe thead th {\n",
       "        text-align: right;\n",
       "    }\n",
       "</style>\n",
       "<table border=\"1\" class=\"dataframe\">\n",
       "  <thead>\n",
       "    <tr style=\"text-align: right;\">\n",
       "      <th></th>\n",
       "      <th>Area</th>\n",
       "      <th>Perimeter</th>\n",
       "      <th>MajorAxisLength</th>\n",
       "      <th>MinorAxisLength</th>\n",
       "      <th>AspectRatio</th>\n",
       "      <th>Eccentricity</th>\n",
       "      <th>ConvexArea</th>\n",
       "      <th>EquivDiameter</th>\n",
       "      <th>Extent</th>\n",
       "      <th>Solidity</th>\n",
       "      <th>Roundness</th>\n",
       "      <th>Compactness</th>\n",
       "      <th>ShapeFactor1</th>\n",
       "      <th>ShapeFactor2</th>\n",
       "      <th>ShapeFactor3</th>\n",
       "      <th>ShapeFactor4</th>\n",
       "    </tr>\n",
       "  </thead>\n",
       "  <tbody>\n",
       "    <tr>\n",
       "      <th>count</th>\n",
       "      <td>13543.000000</td>\n",
       "      <td>13543.000000</td>\n",
       "      <td>13543.000000</td>\n",
       "      <td>13543.000000</td>\n",
       "      <td>13543.000000</td>\n",
       "      <td>13543.000000</td>\n",
       "      <td>13543.000000</td>\n",
       "      <td>13543.000000</td>\n",
       "      <td>13543.000000</td>\n",
       "      <td>13543.000000</td>\n",
       "      <td>13543.000000</td>\n",
       "      <td>13543.000000</td>\n",
       "      <td>13543.000000</td>\n",
       "      <td>13543.000000</td>\n",
       "      <td>13543.000000</td>\n",
       "      <td>13543.000000</td>\n",
       "    </tr>\n",
       "    <tr>\n",
       "      <th>mean</th>\n",
       "      <td>53048.460385</td>\n",
       "      <td>854.993406</td>\n",
       "      <td>319.895602</td>\n",
       "      <td>202.365321</td>\n",
       "      <td>1.581075</td>\n",
       "      <td>0.750315</td>\n",
       "      <td>53767.986709</td>\n",
       "      <td>253.034094</td>\n",
       "      <td>0.749829</td>\n",
       "      <td>0.987152</td>\n",
       "      <td>0.873671</td>\n",
       "      <td>0.800352</td>\n",
       "      <td>0.006561</td>\n",
       "      <td>0.001719</td>\n",
       "      <td>0.644341</td>\n",
       "      <td>0.995078</td>\n",
       "    </tr>\n",
       "    <tr>\n",
       "      <th>std</th>\n",
       "      <td>29392.438324</td>\n",
       "      <td>214.722684</td>\n",
       "      <td>85.809260</td>\n",
       "      <td>45.051632</td>\n",
       "      <td>0.245245</td>\n",
       "      <td>0.091858</td>\n",
       "      <td>29844.248525</td>\n",
       "      <td>59.307709</td>\n",
       "      <td>0.048939</td>\n",
       "      <td>0.004650</td>\n",
       "      <td>0.059393</td>\n",
       "      <td>0.061464</td>\n",
       "      <td>0.001130</td>\n",
       "      <td>0.000595</td>\n",
       "      <td>0.098653</td>\n",
       "      <td>0.004347</td>\n",
       "    </tr>\n",
       "    <tr>\n",
       "      <th>min</th>\n",
       "      <td>20420.000000</td>\n",
       "      <td>524.736000</td>\n",
       "      <td>183.601165</td>\n",
       "      <td>122.512653</td>\n",
       "      <td>1.024868</td>\n",
       "      <td>0.218951</td>\n",
       "      <td>20684.000000</td>\n",
       "      <td>161.243764</td>\n",
       "      <td>0.555315</td>\n",
       "      <td>0.919246</td>\n",
       "      <td>0.489618</td>\n",
       "      <td>0.640577</td>\n",
       "      <td>0.002778</td>\n",
       "      <td>0.000564</td>\n",
       "      <td>0.410339</td>\n",
       "      <td>0.947687</td>\n",
       "    </tr>\n",
       "    <tr>\n",
       "      <th>25%</th>\n",
       "      <td>36282.500000</td>\n",
       "      <td>703.230000</td>\n",
       "      <td>253.086806</td>\n",
       "      <td>175.886357</td>\n",
       "      <td>1.430662</td>\n",
       "      <td>0.715144</td>\n",
       "      <td>36673.000000</td>\n",
       "      <td>214.933277</td>\n",
       "      <td>0.718735</td>\n",
       "      <td>0.985678</td>\n",
       "      <td>0.833410</td>\n",
       "      <td>0.763228</td>\n",
       "      <td>0.005893</td>\n",
       "      <td>0.001158</td>\n",
       "      <td>0.582517</td>\n",
       "      <td>0.993720</td>\n",
       "    </tr>\n",
       "    <tr>\n",
       "      <th>50%</th>\n",
       "      <td>44580.000000</td>\n",
       "      <td>793.896000</td>\n",
       "      <td>296.404589</td>\n",
       "      <td>192.491117</td>\n",
       "      <td>1.549860</td>\n",
       "      <td>0.763997</td>\n",
       "      <td>45122.000000</td>\n",
       "      <td>238.245711</td>\n",
       "      <td>0.759903</td>\n",
       "      <td>0.988288</td>\n",
       "      <td>0.883490</td>\n",
       "      <td>0.801514</td>\n",
       "      <td>0.006643</td>\n",
       "      <td>0.001700</td>\n",
       "      <td>0.642424</td>\n",
       "      <td>0.996393</td>\n",
       "    </tr>\n",
       "    <tr>\n",
       "      <th>75%</th>\n",
       "      <td>61382.000000</td>\n",
       "      <td>977.146500</td>\n",
       "      <td>376.312489</td>\n",
       "      <td>217.245403</td>\n",
       "      <td>1.703916</td>\n",
       "      <td>0.809671</td>\n",
       "      <td>62360.000000</td>\n",
       "      <td>279.560351</td>\n",
       "      <td>0.786849</td>\n",
       "      <td>0.990019</td>\n",
       "      <td>0.917031</td>\n",
       "      <td>0.834470</td>\n",
       "      <td>0.007270</td>\n",
       "      <td>0.002173</td>\n",
       "      <td>0.696341</td>\n",
       "      <td>0.997891</td>\n",
       "    </tr>\n",
       "    <tr>\n",
       "      <th>max</th>\n",
       "      <td>254616.000000</td>\n",
       "      <td>1985.370000</td>\n",
       "      <td>738.860154</td>\n",
       "      <td>460.198497</td>\n",
       "      <td>2.430306</td>\n",
       "      <td>0.911423</td>\n",
       "      <td>263261.000000</td>\n",
       "      <td>569.374358</td>\n",
       "      <td>0.866195</td>\n",
       "      <td>0.994677</td>\n",
       "      <td>0.990685</td>\n",
       "      <td>0.987303</td>\n",
       "      <td>0.010451</td>\n",
       "      <td>0.003665</td>\n",
       "      <td>0.974767</td>\n",
       "      <td>0.999733</td>\n",
       "    </tr>\n",
       "  </tbody>\n",
       "</table>\n",
       "</div>"
      ],
      "text/plain": [
       "                Area     Perimeter  MajorAxisLength  MinorAxisLength  \\\n",
       "count   13543.000000  13543.000000     13543.000000     13543.000000   \n",
       "mean    53048.460385    854.993406       319.895602       202.365321   \n",
       "std     29392.438324    214.722684        85.809260        45.051632   \n",
       "min     20420.000000    524.736000       183.601165       122.512653   \n",
       "25%     36282.500000    703.230000       253.086806       175.886357   \n",
       "50%     44580.000000    793.896000       296.404589       192.491117   \n",
       "75%     61382.000000    977.146500       376.312489       217.245403   \n",
       "max    254616.000000   1985.370000       738.860154       460.198497   \n",
       "\n",
       "        AspectRatio  Eccentricity     ConvexArea  EquivDiameter        Extent  \\\n",
       "count  13543.000000  13543.000000   13543.000000   13543.000000  13543.000000   \n",
       "mean       1.581075      0.750315   53767.986709     253.034094      0.749829   \n",
       "std        0.245245      0.091858   29844.248525      59.307709      0.048939   \n",
       "min        1.024868      0.218951   20684.000000     161.243764      0.555315   \n",
       "25%        1.430662      0.715144   36673.000000     214.933277      0.718735   \n",
       "50%        1.549860      0.763997   45122.000000     238.245711      0.759903   \n",
       "75%        1.703916      0.809671   62360.000000     279.560351      0.786849   \n",
       "max        2.430306      0.911423  263261.000000     569.374358      0.866195   \n",
       "\n",
       "           Solidity     Roundness   Compactness  ShapeFactor1  ShapeFactor2  \\\n",
       "count  13543.000000  13543.000000  13543.000000  13543.000000  13543.000000   \n",
       "mean       0.987152      0.873671      0.800352      0.006561      0.001719   \n",
       "std        0.004650      0.059393      0.061464      0.001130      0.000595   \n",
       "min        0.919246      0.489618      0.640577      0.002778      0.000564   \n",
       "25%        0.985678      0.833410      0.763228      0.005893      0.001158   \n",
       "50%        0.988288      0.883490      0.801514      0.006643      0.001700   \n",
       "75%        0.990019      0.917031      0.834470      0.007270      0.002173   \n",
       "max        0.994677      0.990685      0.987303      0.010451      0.003665   \n",
       "\n",
       "       ShapeFactor3  ShapeFactor4  \n",
       "count  13543.000000  13543.000000  \n",
       "mean       0.644341      0.995078  \n",
       "std        0.098653      0.004347  \n",
       "min        0.410339      0.947687  \n",
       "25%        0.582517      0.993720  \n",
       "50%        0.642424      0.996393  \n",
       "75%        0.696341      0.997891  \n",
       "max        0.974767      0.999733  "
      ]
     },
     "execution_count": 66,
     "metadata": {},
     "output_type": "execute_result"
    }
   ],
   "source": [
    "df2.describe()"
   ]
  },
  {
   "cell_type": "code",
   "execution_count": 67,
   "id": "2504cb40",
   "metadata": {},
   "outputs": [
    {
     "data": {
      "text/plain": [
       "DERMASON    3546\n",
       "SIRA        2636\n",
       "SEKER       2027\n",
       "HOROZ       1860\n",
       "CALI        1630\n",
       "BARBUNYA    1322\n",
       "BOMBAY       522\n",
       "Name: Class, dtype: int64"
      ]
     },
     "execution_count": 67,
     "metadata": {},
     "output_type": "execute_result"
    }
   ],
   "source": [
    "df2['Class'].value_counts()"
   ]
  },
  {
   "cell_type": "code",
   "execution_count": 68,
   "id": "72a0e54c",
   "metadata": {},
   "outputs": [],
   "source": [
    "# Detecting Outliers \n",
    "\n",
    "def boxplots(df2):\n",
    "    cols = df2.columns[::]\n",
    "    n = 5\n",
    "    m = 4\n",
    "    fig, axes = plt.subplots(nrows=n, ncols=m, figsize=(20,15))\n",
    "    for idx, col in enumerate(cols):\n",
    "        i = idx // m\n",
    "        j = idx % m\n",
    "        if df2[col].dtype == 'object':\n",
    "            sns.countplot(data=df2, x=col, ax=axes[i][j])\n",
    "        else:\n",
    "            sns.boxplot(data=df2, x=col, ax=axes[i][j])\n",
    "    plt.tight_layout()\n",
    "    plt.show()"
   ]
  },
  {
   "cell_type": "code",
   "execution_count": 69,
   "id": "c3ed7387",
   "metadata": {
    "scrolled": false
   },
   "outputs": [
    {
     "data": {
      "image/png": "[encoded data removed]",
      "text/plain": [
       "<Figure size 2000x1500 with 20 Axes>"
      ]
     },
     "metadata": {},
     "output_type": "display_data"
    }
   ],
   "source": [
    "boxplots(df2)"
   ]
  },
  {
   "cell_type": "code",
   "execution_count": 70,
   "id": "a636ad03",
   "metadata": {},
   "outputs": [],
   "source": [
    "# Fixing Outliers\n",
    "\n",
    "def outliers_removal(df2, col):\n",
    "    if df2[col].dtype != 'object':\n",
    "        perc = np.percentile(df2[col], [0, 25, 50, 75, 100])\n",
    "        iqr = perc[3] - perc[1]\n",
    "        _min = perc[1] - 1.5*iqr\n",
    "        _max = perc[3] + 1.5*iqr\n",
    "        df2.loc[df2[col] > _max, col] = _max\n",
    "        df2.loc[df2[col] < _min, col] = _min\n",
    "    return df2\n",
    "for col in df2.columns[::]:\n",
    "    df2 = outliers_removal(df2, col)"
   ]
  },
  {
   "cell_type": "code",
   "execution_count": 71,
   "id": "6d0cff72",
   "metadata": {
    "scrolled": false
   },
   "outputs": [
    {
     "data": {
      "image/png": "[encoded data removed]",
      "text/plain": [
       "<Figure size 2000x1500 with 20 Axes>"
      ]
     },
     "metadata": {},
     "output_type": "display_data"
    }
   ],
   "source": [
    "boxplots(df2)"
   ]
  },
  {
   "cell_type": "code",
   "execution_count": 72,
   "id": "1b813df8",
   "metadata": {},
   "outputs": [
    {
     "data": {
      "text/plain": [
       "(13543, 17)"
      ]
     },
     "execution_count": 72,
     "metadata": {},
     "output_type": "execute_result"
    }
   ],
   "source": [
    "df2.shape"
   ]
  },
  {
   "cell_type": "markdown",
   "id": "aa4be638",
   "metadata": {},
   "source": [
    "#### DECISION TREE CLASSIFICATION"
   ]
  },
  {
   "cell_type": "code",
   "execution_count": 73,
   "id": "8a8c23d4",
   "metadata": {},
   "outputs": [],
   "source": [
    "X_=df2.drop('Class',axis=1)\n",
    "y_=df2['Class']"
   ]
  },
  {
   "cell_type": "code",
   "execution_count": 74,
   "id": "b6730454",
   "metadata": {},
   "outputs": [],
   "source": [
    "X_.reset_index(inplace=True, drop=True)"
   ]
  },
  {
   "cell_type": "code",
   "execution_count": 75,
   "id": "f0c415f2",
   "metadata": {},
   "outputs": [
    {
     "data": {
      "text/html": [
       "<div>\n",
       "<style scoped>\n",
       "    .dataframe tbody tr th:only-of-type {\n",
       "        vertical-align: middle;\n",
       "    }\n",
       "\n",
       "    .dataframe tbody tr th {\n",
       "        vertical-align: top;\n",
       "    }\n",
       "\n",
       "    .dataframe thead th {\n",
       "        text-align: right;\n",
       "    }\n",
       "</style>\n",
       "<table border=\"1\" class=\"dataframe\">\n",
       "  <thead>\n",
       "    <tr style=\"text-align: right;\">\n",
       "      <th></th>\n",
       "      <th>Area</th>\n",
       "      <th>Perimeter</th>\n",
       "      <th>MajorAxisLength</th>\n",
       "      <th>MinorAxisLength</th>\n",
       "      <th>AspectRatio</th>\n",
       "      <th>Eccentricity</th>\n",
       "      <th>ConvexArea</th>\n",
       "      <th>EquivDiameter</th>\n",
       "      <th>Extent</th>\n",
       "      <th>Solidity</th>\n",
       "      <th>Roundness</th>\n",
       "      <th>Compactness</th>\n",
       "      <th>ShapeFactor1</th>\n",
       "      <th>ShapeFactor2</th>\n",
       "      <th>ShapeFactor3</th>\n",
       "      <th>ShapeFactor4</th>\n",
       "    </tr>\n",
       "  </thead>\n",
       "  <tbody>\n",
       "    <tr>\n",
       "      <th>0</th>\n",
       "      <td>28395.0</td>\n",
       "      <td>610.291</td>\n",
       "      <td>208.178117</td>\n",
       "      <td>173.888747</td>\n",
       "      <td>1.197191</td>\n",
       "      <td>0.573352</td>\n",
       "      <td>28715.0</td>\n",
       "      <td>190.141097</td>\n",
       "      <td>0.763923</td>\n",
       "      <td>0.988856</td>\n",
       "      <td>0.958027</td>\n",
       "      <td>0.913358</td>\n",
       "      <td>0.007332</td>\n",
       "      <td>0.003147</td>\n",
       "      <td>0.834222</td>\n",
       "      <td>0.998724</td>\n",
       "    </tr>\n",
       "    <tr>\n",
       "      <th>1</th>\n",
       "      <td>28734.0</td>\n",
       "      <td>638.018</td>\n",
       "      <td>200.524796</td>\n",
       "      <td>182.734419</td>\n",
       "      <td>1.097356</td>\n",
       "      <td>0.573352</td>\n",
       "      <td>29172.0</td>\n",
       "      <td>191.272751</td>\n",
       "      <td>0.783968</td>\n",
       "      <td>0.984986</td>\n",
       "      <td>0.887034</td>\n",
       "      <td>0.941333</td>\n",
       "      <td>0.006979</td>\n",
       "      <td>0.003564</td>\n",
       "      <td>0.867076</td>\n",
       "      <td>0.998430</td>\n",
       "    </tr>\n",
       "    <tr>\n",
       "      <th>2</th>\n",
       "      <td>29380.0</td>\n",
       "      <td>624.110</td>\n",
       "      <td>212.826130</td>\n",
       "      <td>175.931143</td>\n",
       "      <td>1.209713</td>\n",
       "      <td>0.573352</td>\n",
       "      <td>29690.0</td>\n",
       "      <td>193.410904</td>\n",
       "      <td>0.778113</td>\n",
       "      <td>0.989559</td>\n",
       "      <td>0.947849</td>\n",
       "      <td>0.908774</td>\n",
       "      <td>0.007244</td>\n",
       "      <td>0.003048</td>\n",
       "      <td>0.825871</td>\n",
       "      <td>0.999066</td>\n",
       "    </tr>\n",
       "    <tr>\n",
       "      <th>3</th>\n",
       "      <td>30008.0</td>\n",
       "      <td>645.884</td>\n",
       "      <td>210.557999</td>\n",
       "      <td>182.516516</td>\n",
       "      <td>1.153638</td>\n",
       "      <td>0.573352</td>\n",
       "      <td>30724.0</td>\n",
       "      <td>195.467062</td>\n",
       "      <td>0.782681</td>\n",
       "      <td>0.979168</td>\n",
       "      <td>0.903936</td>\n",
       "      <td>0.928329</td>\n",
       "      <td>0.007017</td>\n",
       "      <td>0.003215</td>\n",
       "      <td>0.861794</td>\n",
       "      <td>0.994199</td>\n",
       "    </tr>\n",
       "    <tr>\n",
       "      <th>4</th>\n",
       "      <td>30140.0</td>\n",
       "      <td>620.134</td>\n",
       "      <td>201.847882</td>\n",
       "      <td>190.279279</td>\n",
       "      <td>1.060798</td>\n",
       "      <td>0.573352</td>\n",
       "      <td>30417.0</td>\n",
       "      <td>195.896503</td>\n",
       "      <td>0.773098</td>\n",
       "      <td>0.990893</td>\n",
       "      <td>0.984877</td>\n",
       "      <td>0.941333</td>\n",
       "      <td>0.006697</td>\n",
       "      <td>0.003665</td>\n",
       "      <td>0.867076</td>\n",
       "      <td>0.999166</td>\n",
       "    </tr>\n",
       "  </tbody>\n",
       "</table>\n",
       "</div>"
      ],
      "text/plain": [
       "      Area  Perimeter  MajorAxisLength  MinorAxisLength  AspectRatio  \\\n",
       "0  28395.0    610.291       208.178117       173.888747     1.197191   \n",
       "1  28734.0    638.018       200.524796       182.734419     1.097356   \n",
       "2  29380.0    624.110       212.826130       175.931143     1.209713   \n",
       "3  30008.0    645.884       210.557999       182.516516     1.153638   \n",
       "4  30140.0    620.134       201.847882       190.279279     1.060798   \n",
       "\n",
       "   Eccentricity  ConvexArea  EquivDiameter    Extent  Solidity  Roundness  \\\n",
       "0      0.573352     28715.0     190.141097  0.763923  0.988856   0.958027   \n",
       "1      0.573352     29172.0     191.272751  0.783968  0.984986   0.887034   \n",
       "2      0.573352     29690.0     193.410904  0.778113  0.989559   0.947849   \n",
       "3      0.573352     30724.0     195.467062  0.782681  0.979168   0.903936   \n",
       "4      0.573352     30417.0     195.896503  0.773098  0.990893   0.984877   \n",
       "\n",
       "   Compactness  ShapeFactor1  ShapeFactor2  ShapeFactor3  ShapeFactor4  \n",
       "0     0.913358      0.007332      0.003147      0.834222      0.998724  \n",
       "1     0.941333      0.006979      0.003564      0.867076      0.998430  \n",
       "2     0.908774      0.007244      0.003048      0.825871      0.999066  \n",
       "3     0.928329      0.007017      0.003215      0.861794      0.994199  \n",
       "4     0.941333      0.006697      0.003665      0.867076      0.999166  "
      ]
     },
     "execution_count": 75,
     "metadata": {},
     "output_type": "execute_result"
    }
   ],
   "source": [
    "X_.head()"
   ]
  },
  {
   "cell_type": "code",
   "execution_count": 76,
   "id": "ec04f43e",
   "metadata": {},
   "outputs": [],
   "source": [
    "y_.reset_index(inplace=True, drop=True)"
   ]
  },
  {
   "cell_type": "code",
   "execution_count": 77,
   "id": "952c0d38",
   "metadata": {},
   "outputs": [
    {
     "data": {
      "text/plain": [
       "0    SEKER\n",
       "1    SEKER\n",
       "2    SEKER\n",
       "3    SEKER\n",
       "4    SEKER\n",
       "Name: Class, dtype: object"
      ]
     },
     "execution_count": 77,
     "metadata": {},
     "output_type": "execute_result"
    }
   ],
   "source": [
    "y_.head()"
   ]
  },
  {
   "cell_type": "code",
   "execution_count": 78,
   "id": "f574d29c",
   "metadata": {
    "scrolled": true
   },
   "outputs": [],
   "source": [
    "X_train, X_test, y_train, y_test=train_test_split(X_, y_, test_size = 0.25, random_state=25)"
   ]
  },
  {
   "cell_type": "code",
   "execution_count": 79,
   "id": "f7d779b4",
   "metadata": {},
   "outputs": [
    {
     "name": "stdout",
     "output_type": "stream",
     "text": [
      "(13543, 16) (10157, 16) (3386, 16)\n"
     ]
    }
   ],
   "source": [
    "print(X_.shape, X_train.shape, X_test.shape)"
   ]
  },
  {
   "cell_type": "code",
   "execution_count": 80,
   "id": "70f24a09",
   "metadata": {},
   "outputs": [
    {
     "data": {
      "text/html": [
       "<div>\n",
       "<style scoped>\n",
       "    .dataframe tbody tr th:only-of-type {\n",
       "        vertical-align: middle;\n",
       "    }\n",
       "\n",
       "    .dataframe tbody tr th {\n",
       "        vertical-align: top;\n",
       "    }\n",
       "\n",
       "    .dataframe thead th {\n",
       "        text-align: right;\n",
       "    }\n",
       "</style>\n",
       "<table border=\"1\" class=\"dataframe\">\n",
       "  <thead>\n",
       "    <tr style=\"text-align: right;\">\n",
       "      <th></th>\n",
       "      <th>Area</th>\n",
       "      <th>Perimeter</th>\n",
       "      <th>MajorAxisLength</th>\n",
       "      <th>MinorAxisLength</th>\n",
       "      <th>AspectRatio</th>\n",
       "      <th>Eccentricity</th>\n",
       "      <th>ConvexArea</th>\n",
       "      <th>EquivDiameter</th>\n",
       "      <th>Extent</th>\n",
       "      <th>Solidity</th>\n",
       "      <th>Roundness</th>\n",
       "      <th>Compactness</th>\n",
       "      <th>ShapeFactor1</th>\n",
       "      <th>ShapeFactor2</th>\n",
       "      <th>ShapeFactor3</th>\n",
       "      <th>ShapeFactor4</th>\n",
       "    </tr>\n",
       "  </thead>\n",
       "  <tbody>\n",
       "    <tr>\n",
       "      <th>12076</th>\n",
       "      <td>33165.0</td>\n",
       "      <td>671.026</td>\n",
       "      <td>251.430217</td>\n",
       "      <td>168.315167</td>\n",
       "      <td>1.493806</td>\n",
       "      <td>0.742874</td>\n",
       "      <td>33461.0</td>\n",
       "      <td>205.492067</td>\n",
       "      <td>0.809060</td>\n",
       "      <td>0.991154</td>\n",
       "      <td>0.925574</td>\n",
       "      <td>0.817293</td>\n",
       "      <td>0.007581</td>\n",
       "      <td>0.002087</td>\n",
       "      <td>0.667967</td>\n",
       "      <td>0.997814</td>\n",
       "    </tr>\n",
       "    <tr>\n",
       "      <th>631</th>\n",
       "      <td>37152.0</td>\n",
       "      <td>694.797</td>\n",
       "      <td>246.690685</td>\n",
       "      <td>192.216585</td>\n",
       "      <td>1.283400</td>\n",
       "      <td>0.626800</td>\n",
       "      <td>37406.0</td>\n",
       "      <td>217.493438</td>\n",
       "      <td>0.776848</td>\n",
       "      <td>0.993210</td>\n",
       "      <td>0.967111</td>\n",
       "      <td>0.881644</td>\n",
       "      <td>0.006640</td>\n",
       "      <td>0.002475</td>\n",
       "      <td>0.777297</td>\n",
       "      <td>0.997582</td>\n",
       "    </tr>\n",
       "    <tr>\n",
       "      <th>2217</th>\n",
       "      <td>59151.0</td>\n",
       "      <td>931.540</td>\n",
       "      <td>305.938941</td>\n",
       "      <td>247.631523</td>\n",
       "      <td>1.235460</td>\n",
       "      <td>0.587237</td>\n",
       "      <td>60079.0</td>\n",
       "      <td>274.432856</td>\n",
       "      <td>0.797699</td>\n",
       "      <td>0.984554</td>\n",
       "      <td>0.856582</td>\n",
       "      <td>0.897018</td>\n",
       "      <td>0.005172</td>\n",
       "      <td>0.002066</td>\n",
       "      <td>0.804642</td>\n",
       "      <td>0.994103</td>\n",
       "    </tr>\n",
       "    <tr>\n",
       "      <th>6455</th>\n",
       "      <td>54046.0</td>\n",
       "      <td>951.099</td>\n",
       "      <td>364.519035</td>\n",
       "      <td>193.599822</td>\n",
       "      <td>1.882848</td>\n",
       "      <td>0.847303</td>\n",
       "      <td>55750.0</td>\n",
       "      <td>262.323282</td>\n",
       "      <td>0.756354</td>\n",
       "      <td>0.979168</td>\n",
       "      <td>0.750796</td>\n",
       "      <td>0.719642</td>\n",
       "      <td>0.006745</td>\n",
       "      <td>0.001116</td>\n",
       "      <td>0.517885</td>\n",
       "      <td>0.987463</td>\n",
       "    </tr>\n",
       "    <tr>\n",
       "      <th>4756</th>\n",
       "      <td>75706.0</td>\n",
       "      <td>1054.586</td>\n",
       "      <td>408.598294</td>\n",
       "      <td>237.619030</td>\n",
       "      <td>1.719552</td>\n",
       "      <td>0.813513</td>\n",
       "      <td>76512.0</td>\n",
       "      <td>310.470406</td>\n",
       "      <td>0.807401</td>\n",
       "      <td>0.989466</td>\n",
       "      <td>0.855414</td>\n",
       "      <td>0.759843</td>\n",
       "      <td>0.005397</td>\n",
       "      <td>0.001110</td>\n",
       "      <td>0.577361</td>\n",
       "      <td>0.992802</td>\n",
       "    </tr>\n",
       "  </tbody>\n",
       "</table>\n",
       "</div>"
      ],
      "text/plain": [
       "          Area  Perimeter  MajorAxisLength  MinorAxisLength  AspectRatio  \\\n",
       "12076  33165.0    671.026       251.430217       168.315167     1.493806   \n",
       "631    37152.0    694.797       246.690685       192.216585     1.283400   \n",
       "2217   59151.0    931.540       305.938941       247.631523     1.235460   \n",
       "6455   54046.0    951.099       364.519035       193.599822     1.882848   \n",
       "4756   75706.0   1054.586       408.598294       237.619030     1.719552   \n",
       "\n",
       "       Eccentricity  ConvexArea  EquivDiameter    Extent  Solidity  Roundness  \\\n",
       "12076      0.742874     33461.0     205.492067  0.809060  0.991154   0.925574   \n",
       "631        0.626800     37406.0     217.493438  0.776848  0.993210   0.967111   \n",
       "2217       0.587237     60079.0     274.432856  0.797699  0.984554   0.856582   \n",
       "6455       0.847303     55750.0     262.323282  0.756354  0.979168   0.750796   \n",
       "4756       0.813513     76512.0     310.470406  0.807401  0.989466   0.855414   \n",
       "\n",
       "       Compactness  ShapeFactor1  ShapeFactor2  ShapeFactor3  ShapeFactor4  \n",
       "12076     0.817293      0.007581      0.002087      0.667967      0.997814  \n",
       "631       0.881644      0.006640      0.002475      0.777297      0.997582  \n",
       "2217      0.897018      0.005172      0.002066      0.804642      0.994103  \n",
       "6455      0.719642      0.006745      0.001116      0.517885      0.987463  \n",
       "4756      0.759843      0.005397      0.001110      0.577361      0.992802  "
      ]
     },
     "execution_count": 80,
     "metadata": {},
     "output_type": "execute_result"
    }
   ],
   "source": [
    "X_train.head()"
   ]
  },
  {
   "cell_type": "code",
   "execution_count": 81,
   "id": "21bcf823",
   "metadata": {},
   "outputs": [
    {
     "data": {
      "text/plain": [
       "DERMASON    2686\n",
       "SIRA        1974\n",
       "SEKER       1492\n",
       "HOROZ       1426\n",
       "CALI        1193\n",
       "BARBUNYA     986\n",
       "BOMBAY       400\n",
       "Name: Class, dtype: int64"
      ]
     },
     "execution_count": 81,
     "metadata": {},
     "output_type": "execute_result"
    }
   ],
   "source": [
    "y_train.value_counts()"
   ]
  },
  {
   "cell_type": "code",
   "execution_count": 82,
   "id": "e28b9844",
   "metadata": {},
   "outputs": [],
   "source": [
    "cols=X_train.columns\n",
    "scaler = StandardScaler()\n",
    "X_train = scaler.fit_transform(X_train)\n",
    "X_test = scaler.transform(X_test)\n",
    "X_train = pd.DataFrame(X_train, columns=[cols])\n",
    "X_test = pd.DataFrame(X_test, columns=[cols])"
   ]
  },
  {
   "cell_type": "code",
   "execution_count": 83,
   "id": "b5830e82",
   "metadata": {},
   "outputs": [
    {
     "data": {
      "text/html": [
       "<div>\n",
       "<style scoped>\n",
       "    .dataframe tbody tr th:only-of-type {\n",
       "        vertical-align: middle;\n",
       "    }\n",
       "\n",
       "    .dataframe tbody tr th {\n",
       "        vertical-align: top;\n",
       "    }\n",
       "\n",
       "    .dataframe thead tr th {\n",
       "        text-align: left;\n",
       "    }\n",
       "</style>\n",
       "<table border=\"1\" class=\"dataframe\">\n",
       "  <thead>\n",
       "    <tr>\n",
       "      <th></th>\n",
       "      <th>Area</th>\n",
       "      <th>Perimeter</th>\n",
       "      <th>MajorAxisLength</th>\n",
       "      <th>MinorAxisLength</th>\n",
       "      <th>AspectRatio</th>\n",
       "      <th>Eccentricity</th>\n",
       "      <th>ConvexArea</th>\n",
       "      <th>EquivDiameter</th>\n",
       "      <th>Extent</th>\n",
       "      <th>Solidity</th>\n",
       "      <th>Roundness</th>\n",
       "      <th>Compactness</th>\n",
       "      <th>ShapeFactor1</th>\n",
       "      <th>ShapeFactor2</th>\n",
       "      <th>ShapeFactor3</th>\n",
       "      <th>ShapeFactor4</th>\n",
       "    </tr>\n",
       "  </thead>\n",
       "  <tbody>\n",
       "    <tr>\n",
       "      <th>0</th>\n",
       "      <td>-0.898043</td>\n",
       "      <td>-0.927757</td>\n",
       "      <td>-0.829706</td>\n",
       "      <td>-0.917479</td>\n",
       "      <td>-0.356833</td>\n",
       "      <td>-0.132110</td>\n",
       "      <td>-0.900891</td>\n",
       "      <td>-0.921951</td>\n",
       "      <td>1.218824</td>\n",
       "      <td>1.039860</td>\n",
       "      <td>0.889228</td>\n",
       "      <td>0.280611</td>\n",
       "      <td>0.916238</td>\n",
       "      <td>0.618895</td>\n",
       "      <td>0.247949</td>\n",
       "      <td>0.747194</td>\n",
       "    </tr>\n",
       "    <tr>\n",
       "      <th>1</th>\n",
       "      <td>-0.686934</td>\n",
       "      <td>-0.802515</td>\n",
       "      <td>-0.888504</td>\n",
       "      <td>-0.192524</td>\n",
       "      <td>-1.236863</td>\n",
       "      <td>-1.530752</td>\n",
       "      <td>-0.696248</td>\n",
       "      <td>-0.669795</td>\n",
       "      <td>0.548846</td>\n",
       "      <td>1.617942</td>\n",
       "      <td>1.603858</td>\n",
       "      <td>1.332196</td>\n",
       "      <td>0.054979</td>\n",
       "      <td>1.271616</td>\n",
       "      <td>1.367121</td>\n",
       "      <td>0.676872</td>\n",
       "    </tr>\n",
       "    <tr>\n",
       "      <th>2</th>\n",
       "      <td>0.477897</td>\n",
       "      <td>0.444813</td>\n",
       "      <td>-0.153480</td>\n",
       "      <td>1.488268</td>\n",
       "      <td>-1.437370</td>\n",
       "      <td>-2.007457</td>\n",
       "      <td>0.479892</td>\n",
       "      <td>0.526536</td>\n",
       "      <td>0.982526</td>\n",
       "      <td>-0.816123</td>\n",
       "      <td>-0.297767</td>\n",
       "      <td>1.583427</td>\n",
       "      <td>-1.288281</td>\n",
       "      <td>0.583769</td>\n",
       "      <td>1.647047</td>\n",
       "      <td>-0.380760</td>\n",
       "    </tr>\n",
       "    <tr>\n",
       "      <th>3</th>\n",
       "      <td>0.207591</td>\n",
       "      <td>0.547864</td>\n",
       "      <td>0.573255</td>\n",
       "      <td>-0.150569</td>\n",
       "      <td>1.270343</td>\n",
       "      <td>1.126199</td>\n",
       "      <td>0.255329</td>\n",
       "      <td>0.272107</td>\n",
       "      <td>0.122572</td>\n",
       "      <td>-2.330692</td>\n",
       "      <td>-2.117794</td>\n",
       "      <td>-1.315118</td>\n",
       "      <td>0.150671</td>\n",
       "      <td>-1.013397</td>\n",
       "      <td>-1.288399</td>\n",
       "      <td>-2.399579</td>\n",
       "    </tr>\n",
       "    <tr>\n",
       "      <th>4</th>\n",
       "      <td>1.354473</td>\n",
       "      <td>1.093106</td>\n",
       "      <td>1.120095</td>\n",
       "      <td>1.184579</td>\n",
       "      <td>0.587354</td>\n",
       "      <td>0.719050</td>\n",
       "      <td>1.332338</td>\n",
       "      <td>1.283707</td>\n",
       "      <td>1.184322</td>\n",
       "      <td>0.565144</td>\n",
       "      <td>-0.317869</td>\n",
       "      <td>-0.658193</td>\n",
       "      <td>-1.082379</td>\n",
       "      <td>-1.023575</td>\n",
       "      <td>-0.679562</td>\n",
       "      <td>-0.776369</td>\n",
       "    </tr>\n",
       "  </tbody>\n",
       "</table>\n",
       "</div>"
      ],
      "text/plain": [
       "       Area Perimeter MajorAxisLength MinorAxisLength AspectRatio  \\\n",
       "0 -0.898043 -0.927757       -0.829706       -0.917479   -0.356833   \n",
       "1 -0.686934 -0.802515       -0.888504       -0.192524   -1.236863   \n",
       "2  0.477897  0.444813       -0.153480        1.488268   -1.437370   \n",
       "3  0.207591  0.547864        0.573255       -0.150569    1.270343   \n",
       "4  1.354473  1.093106        1.120095        1.184579    0.587354   \n",
       "\n",
       "  Eccentricity ConvexArea EquivDiameter    Extent  Solidity Roundness  \\\n",
       "0    -0.132110  -0.900891     -0.921951  1.218824  1.039860  0.889228   \n",
       "1    -1.530752  -0.696248     -0.669795  0.548846  1.617942  1.603858   \n",
       "2    -2.007457   0.479892      0.526536  0.982526 -0.816123 -0.297767   \n",
       "3     1.126199   0.255329      0.272107  0.122572 -2.330692 -2.117794   \n",
       "4     0.719050   1.332338      1.283707  1.184322  0.565144 -0.317869   \n",
       "\n",
       "  Compactness ShapeFactor1 ShapeFactor2 ShapeFactor3 ShapeFactor4  \n",
       "0    0.280611     0.916238     0.618895     0.247949     0.747194  \n",
       "1    1.332196     0.054979     1.271616     1.367121     0.676872  \n",
       "2    1.583427    -1.288281     0.583769     1.647047    -0.380760  \n",
       "3   -1.315118     0.150671    -1.013397    -1.288399    -2.399579  \n",
       "4   -0.658193    -1.082379    -1.023575    -0.679562    -0.776369  "
      ]
     },
     "execution_count": 83,
     "metadata": {},
     "output_type": "execute_result"
    }
   ],
   "source": [
    "X_train.head()"
   ]
  },
  {
   "cell_type": "code",
   "execution_count": 84,
   "id": "98bf63d0",
   "metadata": {},
   "outputs": [
    {
     "data": {
      "text/html": [
       "<div>\n",
       "<style scoped>\n",
       "    .dataframe tbody tr th:only-of-type {\n",
       "        vertical-align: middle;\n",
       "    }\n",
       "\n",
       "    .dataframe tbody tr th {\n",
       "        vertical-align: top;\n",
       "    }\n",
       "\n",
       "    .dataframe thead th {\n",
       "        text-align: right;\n",
       "    }\n",
       "</style>\n",
       "<table border=\"1\" class=\"dataframe\">\n",
       "  <thead>\n",
       "    <tr style=\"text-align: right;\">\n",
       "      <th></th>\n",
       "      <th>Actual Class</th>\n",
       "      <th>Predicted Class</th>\n",
       "    </tr>\n",
       "  </thead>\n",
       "  <tbody>\n",
       "    <tr>\n",
       "      <th>3985</th>\n",
       "      <td>CALI</td>\n",
       "      <td>BARBUNYA</td>\n",
       "    </tr>\n",
       "    <tr>\n",
       "      <th>6280</th>\n",
       "      <td>HOROZ</td>\n",
       "      <td>HOROZ</td>\n",
       "    </tr>\n",
       "    <tr>\n",
       "      <th>5316</th>\n",
       "      <td>CALI</td>\n",
       "      <td>BARBUNYA</td>\n",
       "    </tr>\n",
       "    <tr>\n",
       "      <th>1138</th>\n",
       "      <td>SEKER</td>\n",
       "      <td>SEKER</td>\n",
       "    </tr>\n",
       "    <tr>\n",
       "      <th>4015</th>\n",
       "      <td>CALI</td>\n",
       "      <td>CALI</td>\n",
       "    </tr>\n",
       "    <tr>\n",
       "      <th>...</th>\n",
       "      <td>...</td>\n",
       "      <td>...</td>\n",
       "    </tr>\n",
       "    <tr>\n",
       "      <th>4982</th>\n",
       "      <td>CALI</td>\n",
       "      <td>CALI</td>\n",
       "    </tr>\n",
       "    <tr>\n",
       "      <th>10204</th>\n",
       "      <td>DERMASON</td>\n",
       "      <td>DERMASON</td>\n",
       "    </tr>\n",
       "    <tr>\n",
       "      <th>3196</th>\n",
       "      <td>BARBUNYA</td>\n",
       "      <td>BARBUNYA</td>\n",
       "    </tr>\n",
       "    <tr>\n",
       "      <th>8182</th>\n",
       "      <td>SIRA</td>\n",
       "      <td>SIRA</td>\n",
       "    </tr>\n",
       "    <tr>\n",
       "      <th>2587</th>\n",
       "      <td>BARBUNYA</td>\n",
       "      <td>BARBUNYA</td>\n",
       "    </tr>\n",
       "  </tbody>\n",
       "</table>\n",
       "<p>3386 rows × 2 columns</p>\n",
       "</div>"
      ],
      "text/plain": [
       "      Actual Class Predicted Class\n",
       "3985          CALI        BARBUNYA\n",
       "6280         HOROZ           HOROZ\n",
       "5316          CALI        BARBUNYA\n",
       "1138         SEKER           SEKER\n",
       "4015          CALI            CALI\n",
       "...            ...             ...\n",
       "4982          CALI            CALI\n",
       "10204     DERMASON        DERMASON\n",
       "3196      BARBUNYA        BARBUNYA\n",
       "8182          SIRA            SIRA\n",
       "2587      BARBUNYA        BARBUNYA\n",
       "\n",
       "[3386 rows x 2 columns]"
      ]
     },
     "execution_count": 84,
     "metadata": {},
     "output_type": "execute_result"
    }
   ],
   "source": [
    "clf = DecisionTreeClassifier(criterion='gini', random_state=0)\n",
    "clf = clf.fit(X_train,y_train)\n",
    "y_pred = clf.predict(X_test)\n",
    "df_2=pd.DataFrame({'Actual Class':y_test,'Predicted Class':y_pred})\n",
    "df_2"
   ]
  },
  {
   "cell_type": "code",
   "execution_count": 85,
   "id": "caed2f42",
   "metadata": {},
   "outputs": [
    {
     "data": {
      "image/png": "[encoded data removed]",
      "text/plain": [
       "<Figure size 640x480 with 2 Axes>"
      ]
     },
     "metadata": {},
     "output_type": "display_data"
    }
   ],
   "source": [
    "labels=df2['Class'].unique()\n",
    "cm = confusion_matrix(y_test, y_pred, labels=labels)\n",
    "disp = ConfusionMatrixDisplay(confusion_matrix=cm, display_labels=labels)\n",
    "disp.plot();"
   ]
  },
  {
   "cell_type": "code",
   "execution_count": 86,
   "id": "798f9a8b",
   "metadata": {},
   "outputs": [
    {
     "name": "stdout",
     "output_type": "stream",
     "text": [
      "              precision    recall  f1-score   support\n",
      "\n",
      "    BARBUNYA       0.88      0.89      0.89       336\n",
      "      BOMBAY       1.00      0.99      1.00       122\n",
      "        CALI       0.92      0.92      0.92       437\n",
      "    DERMASON       0.87      0.90      0.89       860\n",
      "       HOROZ       0.92      0.91      0.92       434\n",
      "       SEKER       0.94      0.93      0.93       535\n",
      "        SIRA       0.84      0.82      0.83       662\n",
      "\n",
      "    accuracy                           0.90      3386\n",
      "   macro avg       0.91      0.91      0.91      3386\n",
      "weighted avg       0.90      0.90      0.90      3386\n",
      "\n"
     ]
    }
   ],
   "source": [
    "print(classification_report(y_test,y_pred))"
   ]
  },
  {
   "cell_type": "code",
   "execution_count": 87,
   "id": "9af17c24",
   "metadata": {},
   "outputs": [
    {
     "name": "stdout",
     "output_type": "stream",
     "text": [
      "Accuracy using Decision Tree Classification:  89.54518606024808\n",
      "Precision using Decision Tree Classification:  91.16425524499333\n"
     ]
    }
   ],
   "source": [
    "acc11=accuracy_score(y_test, y_pred)*100\n",
    "print('Accuracy using Decision Tree Classification: ',acc11)\n",
    "p11=precision_score(y_test, y_pred, average='macro')*100\n",
    "print('Precision using Decision Tree Classification: ',p11)"
   ]
  },
  {
   "cell_type": "markdown",
   "id": "e70b0eeb",
   "metadata": {},
   "source": [
    "#### BAGGING ENSEMBLE"
   ]
  },
  {
   "cell_type": "code",
   "execution_count": 88,
   "id": "93ed7a3f",
   "metadata": {},
   "outputs": [
    {
     "data": {
      "text/plain": [
       "0.7875356896721473"
      ]
     },
     "execution_count": 88,
     "metadata": {},
     "output_type": "execute_result"
    }
   ],
   "source": [
    "# 3 classifiers\n",
    "\n",
    "bag_model=BaggingClassifier(estimator=DecisionTreeClassifier(), n_estimators=3, max_samples=0.7, \\\n",
    "                            oob_score=True, random_state=100)\n",
    "bag_model.fit(X_train, y_train)\n",
    "bag_model.oob_score_"
   ]
  },
  {
   "cell_type": "code",
   "execution_count": 89,
   "id": "4fd2eac1",
   "metadata": {},
   "outputs": [
    {
     "data": {
      "text/html": [
       "<div>\n",
       "<style scoped>\n",
       "    .dataframe tbody tr th:only-of-type {\n",
       "        vertical-align: middle;\n",
       "    }\n",
       "\n",
       "    .dataframe tbody tr th {\n",
       "        vertical-align: top;\n",
       "    }\n",
       "\n",
       "    .dataframe thead th {\n",
       "        text-align: right;\n",
       "    }\n",
       "</style>\n",
       "<table border=\"1\" class=\"dataframe\">\n",
       "  <thead>\n",
       "    <tr style=\"text-align: right;\">\n",
       "      <th></th>\n",
       "      <th>Actual Class</th>\n",
       "      <th>Predicted Class</th>\n",
       "    </tr>\n",
       "  </thead>\n",
       "  <tbody>\n",
       "    <tr>\n",
       "      <th>3985</th>\n",
       "      <td>CALI</td>\n",
       "      <td>CALI</td>\n",
       "    </tr>\n",
       "    <tr>\n",
       "      <th>6280</th>\n",
       "      <td>HOROZ</td>\n",
       "      <td>HOROZ</td>\n",
       "    </tr>\n",
       "    <tr>\n",
       "      <th>5316</th>\n",
       "      <td>CALI</td>\n",
       "      <td>BARBUNYA</td>\n",
       "    </tr>\n",
       "    <tr>\n",
       "      <th>1138</th>\n",
       "      <td>SEKER</td>\n",
       "      <td>SEKER</td>\n",
       "    </tr>\n",
       "    <tr>\n",
       "      <th>4015</th>\n",
       "      <td>CALI</td>\n",
       "      <td>CALI</td>\n",
       "    </tr>\n",
       "    <tr>\n",
       "      <th>...</th>\n",
       "      <td>...</td>\n",
       "      <td>...</td>\n",
       "    </tr>\n",
       "    <tr>\n",
       "      <th>4982</th>\n",
       "      <td>CALI</td>\n",
       "      <td>CALI</td>\n",
       "    </tr>\n",
       "    <tr>\n",
       "      <th>10204</th>\n",
       "      <td>DERMASON</td>\n",
       "      <td>DERMASON</td>\n",
       "    </tr>\n",
       "    <tr>\n",
       "      <th>3196</th>\n",
       "      <td>BARBUNYA</td>\n",
       "      <td>BARBUNYA</td>\n",
       "    </tr>\n",
       "    <tr>\n",
       "      <th>8182</th>\n",
       "      <td>SIRA</td>\n",
       "      <td>SIRA</td>\n",
       "    </tr>\n",
       "    <tr>\n",
       "      <th>2587</th>\n",
       "      <td>BARBUNYA</td>\n",
       "      <td>BARBUNYA</td>\n",
       "    </tr>\n",
       "  </tbody>\n",
       "</table>\n",
       "<p>3386 rows × 2 columns</p>\n",
       "</div>"
      ],
      "text/plain": [
       "      Actual Class Predicted Class\n",
       "3985          CALI            CALI\n",
       "6280         HOROZ           HOROZ\n",
       "5316          CALI        BARBUNYA\n",
       "1138         SEKER           SEKER\n",
       "4015          CALI            CALI\n",
       "...            ...             ...\n",
       "4982          CALI            CALI\n",
       "10204     DERMASON        DERMASON\n",
       "3196      BARBUNYA        BARBUNYA\n",
       "8182          SIRA            SIRA\n",
       "2587      BARBUNYA        BARBUNYA\n",
       "\n",
       "[3386 rows x 2 columns]"
      ]
     },
     "execution_count": 89,
     "metadata": {},
     "output_type": "execute_result"
    }
   ],
   "source": [
    "y_pred=bag_model.predict(X_test)\n",
    "df_22=pd.DataFrame({'Actual Class':y_test,'Predicted Class':y_pred})\n",
    "df_22"
   ]
  },
  {
   "cell_type": "code",
   "execution_count": 90,
   "id": "937088a6",
   "metadata": {},
   "outputs": [
    {
     "data": {
      "image/png": "[encoded data removed]",
      "text/plain": [
       "<Figure size 640x480 with 2 Axes>"
      ]
     },
     "metadata": {},
     "output_type": "display_data"
    }
   ],
   "source": [
    "labels=df2['Class'].unique()\n",
    "cm = confusion_matrix(y_test, y_pred, labels=labels)\n",
    "disp = ConfusionMatrixDisplay(confusion_matrix=cm, display_labels=labels)\n",
    "disp.plot();"
   ]
  },
  {
   "cell_type": "code",
   "execution_count": 91,
   "id": "4a13927d",
   "metadata": {},
   "outputs": [
    {
     "name": "stdout",
     "output_type": "stream",
     "text": [
      "              precision    recall  f1-score   support\n",
      "\n",
      "    BARBUNYA       0.86      0.91      0.89       336\n",
      "      BOMBAY       1.00      0.99      1.00       122\n",
      "        CALI       0.94      0.91      0.93       437\n",
      "    DERMASON       0.88      0.92      0.90       860\n",
      "       HOROZ       0.94      0.92      0.93       434\n",
      "       SEKER       0.97      0.92      0.95       535\n",
      "        SIRA       0.86      0.84      0.85       662\n",
      "\n",
      "    accuracy                           0.91      3386\n",
      "   macro avg       0.92      0.92      0.92      3386\n",
      "weighted avg       0.91      0.91      0.91      3386\n",
      "\n"
     ]
    }
   ],
   "source": [
    "print(classification_report(y_test,y_pred))"
   ]
  },
  {
   "cell_type": "code",
   "execution_count": 92,
   "id": "80ae0dea",
   "metadata": {},
   "outputs": [
    {
     "name": "stdout",
     "output_type": "stream",
     "text": [
      "Bagging Ensemble Accuracy Score with 3 Classifiers:  90.66745422327229\n",
      "Bagging Ensemble Precision Score with 3 Classifiers:  92.15400787849083\n"
     ]
    }
   ],
   "source": [
    "acc22=accuracy_score(y_test, y_pred)*100\n",
    "print('Bagging Ensemble Accuracy Score with 3 Classifiers: ',acc22)\n",
    "p22=precision_score(y_test, y_pred, average='macro')*100\n",
    "print('Bagging Ensemble Precision Score with 3 Classifiers: ',p22)"
   ]
  },
  {
   "cell_type": "code",
   "execution_count": 93,
   "id": "333c0ef3",
   "metadata": {},
   "outputs": [
    {
     "data": {
      "text/plain": [
       "0.8685635522299892"
      ]
     },
     "execution_count": 93,
     "metadata": {},
     "output_type": "execute_result"
    }
   ],
   "source": [
    "# 5 classifiers\n",
    "\n",
    "bag_model=BaggingClassifier(estimator=DecisionTreeClassifier(), n_estimators=5, max_samples=0.7, \\\n",
    "                            oob_score=True, random_state=100)\n",
    "bag_model.fit(X_train, y_train)\n",
    "bag_model.oob_score_"
   ]
  },
  {
   "cell_type": "code",
   "execution_count": 94,
   "id": "a03aa2b6",
   "metadata": {},
   "outputs": [
    {
     "name": "stdout",
     "output_type": "stream",
     "text": [
      "Bagging Ensemble Accuracy Score with 5 Classifiers:  91.34672179562907\n",
      "Bagging Ensemble Precision Score with 5 Classifiers:  92.81485320449676\n"
     ]
    }
   ],
   "source": [
    "y_pred=bag_model.predict(X_test)\n",
    "acc33=accuracy_score(y_test, y_pred)*100\n",
    "print('Bagging Ensemble Accuracy Score with 5 Classifiers: ',acc33)\n",
    "p33=precision_score(y_test, y_pred, average='macro')*100\n",
    "print('Bagging Ensemble Precision Score with 5 Classifiers: ',p33)"
   ]
  },
  {
   "cell_type": "code",
   "execution_count": 95,
   "id": "f8fa505f",
   "metadata": {},
   "outputs": [
    {
     "data": {
      "text/plain": [
       "0.8971152899478192"
      ]
     },
     "execution_count": 95,
     "metadata": {},
     "output_type": "execute_result"
    }
   ],
   "source": [
    "# 7 classifiers\n",
    "\n",
    "bag_model=BaggingClassifier(estimator=DecisionTreeClassifier(), n_estimators=7, max_samples=0.7, \\\n",
    "                            oob_score=True, random_state=100)\n",
    "bag_model.fit(X_train, y_train)\n",
    "bag_model.oob_score_"
   ]
  },
  {
   "cell_type": "code",
   "execution_count": 96,
   "id": "0cd421f5",
   "metadata": {},
   "outputs": [
    {
     "name": "stdout",
     "output_type": "stream",
     "text": [
      "Bagging Ensemble Accuracy Score with 7 Classifiers:  91.37625516834022\n",
      "Bagging Ensemble Precision Score with 7 Classifiers:  92.90163698267031\n"
     ]
    }
   ],
   "source": [
    "y_pred=bag_model.predict(X_test)\n",
    "acc44=accuracy_score(y_test, y_pred)*100\n",
    "print('Bagging Ensemble Accuracy Score with 7 Classifiers: ',acc44)\n",
    "p44=precision_score(y_test, y_pred, average='macro')*100\n",
    "print('Bagging Ensemble Precision Score with 7 Classifiers: ',p44)"
   ]
  },
  {
   "cell_type": "code",
   "execution_count": 97,
   "id": "940ff6d6",
   "metadata": {},
   "outputs": [
    {
     "data": {
      "text/plain": [
       "0.9083390764989663"
      ]
     },
     "execution_count": 97,
     "metadata": {},
     "output_type": "execute_result"
    }
   ],
   "source": [
    "# 9 classifiers\n",
    "\n",
    "bag_model=BaggingClassifier(estimator=DecisionTreeClassifier(), n_estimators=9, max_samples=0.7, \\\n",
    "                            oob_score=True, random_state=100)\n",
    "bag_model.fit(X_train, y_train)\n",
    "bag_model.oob_score_"
   ]
  },
  {
   "cell_type": "code",
   "execution_count": 98,
   "id": "30b64736",
   "metadata": {},
   "outputs": [
    {
     "name": "stdout",
     "output_type": "stream",
     "text": [
      "Bagging Ensemble Accuracy Score with 9 Classifiers:  92.23272297696397\n",
      "Bagging Ensemble Precision Score with 9 Classifiers:  93.5779875689393\n"
     ]
    }
   ],
   "source": [
    "y_pred=bag_model.predict(X_test)\n",
    "acc55=accuracy_score(y_test, y_pred)*100\n",
    "print('Bagging Ensemble Accuracy Score with 9 Classifiers: ',acc55)\n",
    "p55=precision_score(y_test, y_pred, average='macro')*100\n",
    "print('Bagging Ensemble Precision Score with 9 Classifiers: ',p55)"
   ]
  },
  {
   "cell_type": "markdown",
   "id": "a0f17aee",
   "metadata": {},
   "source": [
    "#### ADABOOST ENSEMBLE"
   ]
  },
  {
   "cell_type": "code",
   "execution_count": 99,
   "id": "a817bb7d",
   "metadata": {},
   "outputs": [],
   "source": [
    "# 3 classifiers\n",
    "\n",
    "ada_model=AdaBoostClassifier(n_estimators=3, learning_rate=0.5, random_state=100)"
   ]
  },
  {
   "cell_type": "code",
   "execution_count": 100,
   "id": "3aa8ae2f",
   "metadata": {},
   "outputs": [
    {
     "data": {
      "text/html": [
       "<div>\n",
       "<style scoped>\n",
       "    .dataframe tbody tr th:only-of-type {\n",
       "        vertical-align: middle;\n",
       "    }\n",
       "\n",
       "    .dataframe tbody tr th {\n",
       "        vertical-align: top;\n",
       "    }\n",
       "\n",
       "    .dataframe thead th {\n",
       "        text-align: right;\n",
       "    }\n",
       "</style>\n",
       "<table border=\"1\" class=\"dataframe\">\n",
       "  <thead>\n",
       "    <tr style=\"text-align: right;\">\n",
       "      <th></th>\n",
       "      <th>Actual Class</th>\n",
       "      <th>Predicted Class</th>\n",
       "    </tr>\n",
       "  </thead>\n",
       "  <tbody>\n",
       "    <tr>\n",
       "      <th>3985</th>\n",
       "      <td>CALI</td>\n",
       "      <td>SIRA</td>\n",
       "    </tr>\n",
       "    <tr>\n",
       "      <th>6280</th>\n",
       "      <td>HOROZ</td>\n",
       "      <td>HOROZ</td>\n",
       "    </tr>\n",
       "    <tr>\n",
       "      <th>5316</th>\n",
       "      <td>CALI</td>\n",
       "      <td>SIRA</td>\n",
       "    </tr>\n",
       "    <tr>\n",
       "      <th>1138</th>\n",
       "      <td>SEKER</td>\n",
       "      <td>DERMASON</td>\n",
       "    </tr>\n",
       "    <tr>\n",
       "      <th>4015</th>\n",
       "      <td>CALI</td>\n",
       "      <td>SIRA</td>\n",
       "    </tr>\n",
       "    <tr>\n",
       "      <th>...</th>\n",
       "      <td>...</td>\n",
       "      <td>...</td>\n",
       "    </tr>\n",
       "    <tr>\n",
       "      <th>4982</th>\n",
       "      <td>CALI</td>\n",
       "      <td>SIRA</td>\n",
       "    </tr>\n",
       "    <tr>\n",
       "      <th>10204</th>\n",
       "      <td>DERMASON</td>\n",
       "      <td>DERMASON</td>\n",
       "    </tr>\n",
       "    <tr>\n",
       "      <th>3196</th>\n",
       "      <td>BARBUNYA</td>\n",
       "      <td>SIRA</td>\n",
       "    </tr>\n",
       "    <tr>\n",
       "      <th>8182</th>\n",
       "      <td>SIRA</td>\n",
       "      <td>SIRA</td>\n",
       "    </tr>\n",
       "    <tr>\n",
       "      <th>2587</th>\n",
       "      <td>BARBUNYA</td>\n",
       "      <td>SIRA</td>\n",
       "    </tr>\n",
       "  </tbody>\n",
       "</table>\n",
       "<p>3386 rows × 2 columns</p>\n",
       "</div>"
      ],
      "text/plain": [
       "      Actual Class Predicted Class\n",
       "3985          CALI            SIRA\n",
       "6280         HOROZ           HOROZ\n",
       "5316          CALI            SIRA\n",
       "1138         SEKER        DERMASON\n",
       "4015          CALI            SIRA\n",
       "...            ...             ...\n",
       "4982          CALI            SIRA\n",
       "10204     DERMASON        DERMASON\n",
       "3196      BARBUNYA            SIRA\n",
       "8182          SIRA            SIRA\n",
       "2587      BARBUNYA            SIRA\n",
       "\n",
       "[3386 rows x 2 columns]"
      ]
     },
     "execution_count": 100,
     "metadata": {},
     "output_type": "execute_result"
    }
   ],
   "source": [
    "ada_model.fit(X_train, y_train)\n",
    "y_pred=ada_model.predict(X_test)\n",
    "df_222=pd.DataFrame({'Actual Class':y_test,'Predicted Class':y_pred})\n",
    "df_222"
   ]
  },
  {
   "cell_type": "code",
   "execution_count": 101,
   "id": "fdc8b8f7",
   "metadata": {},
   "outputs": [
    {
     "data": {
      "image/png": "[encoded data removed]",
      "text/plain": [
       "<Figure size 640x480 with 2 Axes>"
      ]
     },
     "metadata": {},
     "output_type": "display_data"
    }
   ],
   "source": [
    "labels=df2['Class'].unique()\n",
    "cm = confusion_matrix(y_test, y_pred, labels=labels)\n",
    "disp = ConfusionMatrixDisplay(confusion_matrix=cm, display_labels=labels)\n",
    "disp.plot();"
   ]
  },
  {
   "cell_type": "code",
   "execution_count": 102,
   "id": "c40bf05a",
   "metadata": {},
   "outputs": [
    {
     "name": "stdout",
     "output_type": "stream",
     "text": [
      "              precision    recall  f1-score   support\n",
      "\n",
      "    BARBUNYA       0.00      0.00      0.00       336\n",
      "      BOMBAY       1.00      1.00      1.00       122\n",
      "        CALI       0.00      0.00      0.00       437\n",
      "    DERMASON       0.57      0.96      0.71       860\n",
      "       HOROZ       0.91      0.91      0.91       434\n",
      "       SEKER       0.00      0.00      0.00       535\n",
      "        SIRA       0.39      0.81      0.52       662\n",
      "\n",
      "    accuracy                           0.55      3386\n",
      "   macro avg       0.41      0.53      0.45      3386\n",
      "weighted avg       0.37      0.55      0.44      3386\n",
      "\n"
     ]
    }
   ],
   "source": [
    "print(classification_report(y_test,y_pred))"
   ]
  },
  {
   "cell_type": "code",
   "execution_count": 103,
   "id": "0936b9ec",
   "metadata": {},
   "outputs": [
    {
     "name": "stdout",
     "output_type": "stream",
     "text": [
      "AdaBoost Ensemble Accuracy Score with 3 Classifiers:  55.40460720614294\n",
      "AdaBoost Ensemble Precision Score with 3 Classifiers:  40.98903339563457\n"
     ]
    }
   ],
   "source": [
    "acc66=accuracy_score(y_test, y_pred)*100\n",
    "print('AdaBoost Ensemble Accuracy Score with 3 Classifiers: ',acc66)\n",
    "p66=precision_score(y_test, y_pred, average='macro')*100\n",
    "print('AdaBoost Ensemble Precision Score with 3 Classifiers: ',p66)"
   ]
  },
  {
   "cell_type": "code",
   "execution_count": 104,
   "id": "2ff0a2ba",
   "metadata": {},
   "outputs": [
    {
     "name": "stdout",
     "output_type": "stream",
     "text": [
      "AdaBoost Ensemble Accuracy Score with 5 Classifiers:  63.792085056113415\n",
      "AdaBoost Ensemble Precision Score with 5 Classifiers:  39.71771178179341\n"
     ]
    }
   ],
   "source": [
    "# 5 classifiers\n",
    "\n",
    "ada_model=AdaBoostClassifier(n_estimators=5, learning_rate=0.5, random_state=100)\n",
    "ada_model.fit(X_train, y_train)\n",
    "y_pred=ada_model.predict(X_test)\n",
    "acc77=accuracy_score(y_test, y_pred)*100\n",
    "print('AdaBoost Ensemble Accuracy Score with 5 Classifiers: ',acc77)\n",
    "p77=precision_score(y_test, y_pred, average='macro')*100\n",
    "print('AdaBoost Ensemble Precision Score with 5 Classifiers: ',p77)"
   ]
  },
  {
   "cell_type": "code",
   "execution_count": 105,
   "id": "efdbe190",
   "metadata": {},
   "outputs": [
    {
     "name": "stdout",
     "output_type": "stream",
     "text": [
      "AdaBoost Ensemble Accuracy Score with 7 Classifiers:  56.940342587123446\n",
      "AdaBoost Ensemble Precision Score with 7 Classifiers:  38.29190405672081\n"
     ]
    }
   ],
   "source": [
    "# 7 classifiers\n",
    "\n",
    "ada_model=AdaBoostClassifier(n_estimators=7, learning_rate=0.5, random_state=100)\n",
    "ada_model.fit(X_train, y_train)\n",
    "y_pred=ada_model.predict(X_test)\n",
    "acc88=accuracy_score(y_test, y_pred)*100\n",
    "print('AdaBoost Ensemble Accuracy Score with 7 Classifiers: ',acc88)\n",
    "p88=precision_score(y_test, y_pred, average='macro')*100\n",
    "print('AdaBoost Ensemble Precision Score with 7 Classifiers: ',p88)"
   ]
  },
  {
   "cell_type": "code",
   "execution_count": 106,
   "id": "b5de2d06",
   "metadata": {},
   "outputs": [
    {
     "name": "stdout",
     "output_type": "stream",
     "text": [
      "AdaBoost Ensemble Accuracy Score with 9 Classifiers:  59.9822799763733\n",
      "AdaBoost Ensemble Precision Score with 9 Classifiers:  45.64523759390837\n"
     ]
    }
   ],
   "source": [
    "# 9 classifiers \n",
    "\n",
    "ada_model=AdaBoostClassifier(n_estimators=9, learning_rate=0.5, random_state=100)\n",
    "ada_model.fit(X_train, y_train)\n",
    "y_pred=ada_model.predict(X_test)\n",
    "acc99=accuracy_score(y_test, y_pred)*100\n",
    "print('AdaBoost Ensemble Accuracy Score with 9 Classifiers: ',acc99)\n",
    "p99=precision_score(y_test, y_pred, average='macro')*100\n",
    "print('AdaBoost Ensemble Precision Score with 9 Classifiers: ',p99)"
   ]
  },
  {
   "cell_type": "markdown",
   "id": "a1c754e4",
   "metadata": {},
   "source": [
    "#### ACCURACY AND PRECISION SCORES PLOTTING"
   ]
  },
  {
   "cell_type": "code",
   "execution_count": 107,
   "id": "687f0deb",
   "metadata": {},
   "outputs": [
    {
     "data": {
      "image/png": "[encoded data removed]",
      "text/plain": [
       "<Figure size 1000x600 with 1 Axes>"
      ]
     },
     "metadata": {},
     "output_type": "display_data"
    }
   ],
   "source": [
    "data3={'Bagging': [acc22, acc33, acc44, acc55],\n",
    "         'AdaBoost': [acc66, acc77, acc88, acc99]}\n",
    "_df3=pd.DataFrame(data3, columns=['Bagging', 'AdaBoost'],\n",
    "                   index=['3 Classifiers', '5 Classifiers', '7 Classifiers', '9 Classifiers'])\n",
    "fig, ax = plt.subplots(figsize=(10, 6))\n",
    "_df3.plot.bar(ax=ax, rot=0)\n",
    "def addlabels(ax):\n",
    "    for p in ax.patches:\n",
    "        ax.annotate(f'{p.get_height():.2f}', \n",
    "                    (p.get_x() + p.get_width() / 2., p.get_height() + 0.01), \n",
    "                    ha='center', va='bottom')\n",
    "addlabels(ax)\n",
    "ax.legend(loc='upper left', bbox_to_anchor=(1, 1))\n",
    "plt.title(\"ACCURACY SCORE of BAGGING and ADABOOST ENSEMBLE on DATASET 2\")\n",
    "plt.xlabel(\"DATASET 2\")\n",
    "plt.ylabel(\"ACCURACY SCORES\")\n",
    "plt.tight_layout() \n",
    "plt.show()"
   ]
  },
  {
   "cell_type": "code",
   "execution_count": 108,
   "id": "bf4fcdd7",
   "metadata": {},
   "outputs": [
    {
     "data": {
      "image/png": "[encoded data removed]",
      "text/plain": [
       "<Figure size 1000x600 with 1 Axes>"
      ]
     },
     "metadata": {},
     "output_type": "display_data"
    }
   ],
   "source": [
    "data4={'Bagging': [p22, p33, p44, p55],\n",
    "         'AdaBoost': [p66, p77, p88, p99]}\n",
    "_df4=pd.DataFrame(data4, columns=['Bagging', 'AdaBoost'],\n",
    "                   index=['3 Classifiers', '5 Classifiers', '7 Classifiers', '9 Classifiers'])\n",
    "fig, ax = plt.subplots(figsize=(10, 6))\n",
    "_df4.plot.bar(ax=ax, rot=0)\n",
    "def addlabels(ax):\n",
    "    for p in ax.patches:\n",
    "        ax.annotate(f'{p.get_height():.2f}', \n",
    "                    (p.get_x() + p.get_width() / 2., p.get_height() + 0.01), \n",
    "                    ha='center', va='bottom')\n",
    "addlabels(ax)\n",
    "ax.legend(loc='upper left', bbox_to_anchor=(1, 1))\n",
    "plt.title(\"PRECISION SCORE of BAGGING and ADABOOST ENSEMBLE on DATASET 2\")\n",
    "plt.xlabel(\"DATASET 2\")\n",
    "plt.ylabel(\"PRECISION SCORES\")\n",
    "plt.tight_layout() \n",
    "plt.show()"
   ]
  },
  {
   "cell_type": "markdown",
   "id": "565dfa19",
   "metadata": {},
   "source": [
    "## THANK YOU"
   ]
  }
 ],
 "metadata": {
  "kernelspec": {
   "display_name": "Python 3 (ipykernel)",
   "language": "python",
   "name": "python3"
  },
  "language_info": {
   "codemirror_mode": {
    "name": "ipython",
    "version": 3
   },
   "file_extension": ".py",
   "mimetype": "text/x-python",
   "name": "python",
   "nbconvert_exporter": "python",
   "pygments_lexer": "ipython3",
   "version": "3.10.9"
  }
 },
 "nbformat": 4,
 "nbformat_minor": 5
}
